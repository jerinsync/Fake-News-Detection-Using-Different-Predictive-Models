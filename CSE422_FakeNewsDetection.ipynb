{
  "cells": [
    {
      "cell_type": "code",
      "execution_count": null,
      "metadata": {
        "id": "Y5BDpL4xjx6K"
      },
      "outputs": [],
      "source": [
        "# Group Member Name: Sara Jerin Prithila\n",
        "# Group Member Name: Tamim Al Ahasan\n",
        "# Fake News Detection"
      ]
    },
    {
      "cell_type": "code",
      "execution_count": null,
      "metadata": {
        "id": "2LAQ_CF4ZYbg"
      },
      "outputs": [],
      "source": [
        "import pandas as pd\n",
        "import numpy as np\n",
        "import matplotlib.pyplot as plt"
      ]
    },
    {
      "cell_type": "code",
      "execution_count": null,
      "metadata": {
        "colab": {
          "base_uri": "https://localhost:8080/"
        },
        "id": "NO_bHRnsZn5Y",
        "outputId": "b90b86cd-1cbc-4ff9-f2c6-23347e5abc40"
      },
      "outputs": [
        {
          "output_type": "stream",
          "name": "stdout",
          "text": [
            "<class 'pandas.core.frame.DataFrame'>\n",
            "RangeIndex: 72134 entries, 0 to 72133\n",
            "Data columns (total 4 columns):\n",
            " #   Column   Non-Null Count  Dtype \n",
            "---  ------   --------------  ----- \n",
            " 0   Column1  72134 non-null  int64 \n",
            " 1   title    71576 non-null  object\n",
            " 2   text     72007 non-null  object\n",
            " 3   label    72134 non-null  int64 \n",
            "dtypes: int64(2), object(2)\n",
            "memory usage: 2.2+ MB\n"
          ]
        }
      ],
      "source": [
        "df = pd.read_csv('/content/drive/MyDrive/study /CSE422 lab/news dataset ml.csv')\n",
        "df.info()"
      ]
    },
    {
      "cell_type": "code",
      "execution_count": null,
      "metadata": {
        "colab": {
          "base_uri": "https://localhost:8080/",
          "height": 206
        },
        "id": "e3AaFWS7Zqzc",
        "outputId": "e37139a9-a4be-42ef-f69a-cba5e65ba583"
      },
      "outputs": [
        {
          "output_type": "execute_result",
          "data": {
            "text/plain": [
              "   Column1                                              title  \\\n",
              "0        0  LAW ENFORCEMENT ON HIGH ALERT Following Threat...   \n",
              "1        1                                                NaN   \n",
              "2        2  UNBELIEVABLE! OBAMA’S ATTORNEY GENERAL SAYS MO...   \n",
              "3        3  Bobby Jindal, raised Hindu, uses story of Chri...   \n",
              "4        4  SATAN 2: Russia unvelis an image of its terrif...   \n",
              "\n",
              "                                                text  label  \n",
              "0  No comment is expected from Barack Obama Membe...      1  \n",
              "1     Did they post their votes for Hillary already?      1  \n",
              "2   Now, most of the demonstrators gathered last ...      1  \n",
              "3  A dozen politically active pastors came here f...      0  \n",
              "4  The RS-28 Sarmat missile, dubbed Satan 2, will...      1  "
            ],
            "text/html": [
              "\n",
              "  <div id=\"df-80a47e4c-1385-474f-8991-df80c3b7eac9\">\n",
              "    <div class=\"colab-df-container\">\n",
              "      <div>\n",
              "<style scoped>\n",
              "    .dataframe tbody tr th:only-of-type {\n",
              "        vertical-align: middle;\n",
              "    }\n",
              "\n",
              "    .dataframe tbody tr th {\n",
              "        vertical-align: top;\n",
              "    }\n",
              "\n",
              "    .dataframe thead th {\n",
              "        text-align: right;\n",
              "    }\n",
              "</style>\n",
              "<table border=\"1\" class=\"dataframe\">\n",
              "  <thead>\n",
              "    <tr style=\"text-align: right;\">\n",
              "      <th></th>\n",
              "      <th>Column1</th>\n",
              "      <th>title</th>\n",
              "      <th>text</th>\n",
              "      <th>label</th>\n",
              "    </tr>\n",
              "  </thead>\n",
              "  <tbody>\n",
              "    <tr>\n",
              "      <th>0</th>\n",
              "      <td>0</td>\n",
              "      <td>LAW ENFORCEMENT ON HIGH ALERT Following Threat...</td>\n",
              "      <td>No comment is expected from Barack Obama Membe...</td>\n",
              "      <td>1</td>\n",
              "    </tr>\n",
              "    <tr>\n",
              "      <th>1</th>\n",
              "      <td>1</td>\n",
              "      <td>NaN</td>\n",
              "      <td>Did they post their votes for Hillary already?</td>\n",
              "      <td>1</td>\n",
              "    </tr>\n",
              "    <tr>\n",
              "      <th>2</th>\n",
              "      <td>2</td>\n",
              "      <td>UNBELIEVABLE! OBAMA’S ATTORNEY GENERAL SAYS MO...</td>\n",
              "      <td>Now, most of the demonstrators gathered last ...</td>\n",
              "      <td>1</td>\n",
              "    </tr>\n",
              "    <tr>\n",
              "      <th>3</th>\n",
              "      <td>3</td>\n",
              "      <td>Bobby Jindal, raised Hindu, uses story of Chri...</td>\n",
              "      <td>A dozen politically active pastors came here f...</td>\n",
              "      <td>0</td>\n",
              "    </tr>\n",
              "    <tr>\n",
              "      <th>4</th>\n",
              "      <td>4</td>\n",
              "      <td>SATAN 2: Russia unvelis an image of its terrif...</td>\n",
              "      <td>The RS-28 Sarmat missile, dubbed Satan 2, will...</td>\n",
              "      <td>1</td>\n",
              "    </tr>\n",
              "  </tbody>\n",
              "</table>\n",
              "</div>\n",
              "      <button class=\"colab-df-convert\" onclick=\"convertToInteractive('df-80a47e4c-1385-474f-8991-df80c3b7eac9')\"\n",
              "              title=\"Convert this dataframe to an interactive table.\"\n",
              "              style=\"display:none;\">\n",
              "        \n",
              "  <svg xmlns=\"http://www.w3.org/2000/svg\" height=\"24px\"viewBox=\"0 0 24 24\"\n",
              "       width=\"24px\">\n",
              "    <path d=\"M0 0h24v24H0V0z\" fill=\"none\"/>\n",
              "    <path d=\"M18.56 5.44l.94 2.06.94-2.06 2.06-.94-2.06-.94-.94-2.06-.94 2.06-2.06.94zm-11 1L8.5 8.5l.94-2.06 2.06-.94-2.06-.94L8.5 2.5l-.94 2.06-2.06.94zm10 10l.94 2.06.94-2.06 2.06-.94-2.06-.94-.94-2.06-.94 2.06-2.06.94z\"/><path d=\"M17.41 7.96l-1.37-1.37c-.4-.4-.92-.59-1.43-.59-.52 0-1.04.2-1.43.59L10.3 9.45l-7.72 7.72c-.78.78-.78 2.05 0 2.83L4 21.41c.39.39.9.59 1.41.59.51 0 1.02-.2 1.41-.59l7.78-7.78 2.81-2.81c.8-.78.8-2.07 0-2.86zM5.41 20L4 18.59l7.72-7.72 1.47 1.35L5.41 20z\"/>\n",
              "  </svg>\n",
              "      </button>\n",
              "      \n",
              "  <style>\n",
              "    .colab-df-container {\n",
              "      display:flex;\n",
              "      flex-wrap:wrap;\n",
              "      gap: 12px;\n",
              "    }\n",
              "\n",
              "    .colab-df-convert {\n",
              "      background-color: #E8F0FE;\n",
              "      border: none;\n",
              "      border-radius: 50%;\n",
              "      cursor: pointer;\n",
              "      display: none;\n",
              "      fill: #1967D2;\n",
              "      height: 32px;\n",
              "      padding: 0 0 0 0;\n",
              "      width: 32px;\n",
              "    }\n",
              "\n",
              "    .colab-df-convert:hover {\n",
              "      background-color: #E2EBFA;\n",
              "      box-shadow: 0px 1px 2px rgba(60, 64, 67, 0.3), 0px 1px 3px 1px rgba(60, 64, 67, 0.15);\n",
              "      fill: #174EA6;\n",
              "    }\n",
              "\n",
              "    [theme=dark] .colab-df-convert {\n",
              "      background-color: #3B4455;\n",
              "      fill: #D2E3FC;\n",
              "    }\n",
              "\n",
              "    [theme=dark] .colab-df-convert:hover {\n",
              "      background-color: #434B5C;\n",
              "      box-shadow: 0px 1px 3px 1px rgba(0, 0, 0, 0.15);\n",
              "      filter: drop-shadow(0px 1px 2px rgba(0, 0, 0, 0.3));\n",
              "      fill: #FFFFFF;\n",
              "    }\n",
              "  </style>\n",
              "\n",
              "      <script>\n",
              "        const buttonEl =\n",
              "          document.querySelector('#df-80a47e4c-1385-474f-8991-df80c3b7eac9 button.colab-df-convert');\n",
              "        buttonEl.style.display =\n",
              "          google.colab.kernel.accessAllowed ? 'block' : 'none';\n",
              "\n",
              "        async function convertToInteractive(key) {\n",
              "          const element = document.querySelector('#df-80a47e4c-1385-474f-8991-df80c3b7eac9');\n",
              "          const dataTable =\n",
              "            await google.colab.kernel.invokeFunction('convertToInteractive',\n",
              "                                                     [key], {});\n",
              "          if (!dataTable) return;\n",
              "\n",
              "          const docLinkHtml = 'Like what you see? Visit the ' +\n",
              "            '<a target=\"_blank\" href=https://colab.research.google.com/notebooks/data_table.ipynb>data table notebook</a>'\n",
              "            + ' to learn more about interactive tables.';\n",
              "          element.innerHTML = '';\n",
              "          dataTable['output_type'] = 'display_data';\n",
              "          await google.colab.output.renderOutput(dataTable, element);\n",
              "          const docLink = document.createElement('div');\n",
              "          docLink.innerHTML = docLinkHtml;\n",
              "          element.appendChild(docLink);\n",
              "        }\n",
              "      </script>\n",
              "    </div>\n",
              "  </div>\n",
              "  "
            ]
          },
          "metadata": {},
          "execution_count": 9
        }
      ],
      "source": [
        "df.head()"
      ]
    },
    {
      "cell_type": "code",
      "execution_count": null,
      "metadata": {
        "colab": {
          "base_uri": "https://localhost:8080/"
        },
        "id": "qjQZyDicZqxI",
        "outputId": "1a8cdc9c-e848-4221-a296-5bcf1e33a9b6"
      },
      "outputs": [
        {
          "output_type": "stream",
          "name": "stdout",
          "text": [
            "Shape: (72134, 4)\n"
          ]
        }
      ],
      "source": [
        "print(f'Shape: {df.shape}')"
      ]
    },
    {
      "cell_type": "code",
      "execution_count": null,
      "metadata": {
        "id": "cZvol4Yw4PpE"
      },
      "outputs": [],
      "source": [
        "#Feature Selection\n",
        "df = df.drop(columns='title', axis=1)"
      ]
    },
    {
      "cell_type": "code",
      "execution_count": null,
      "metadata": {
        "colab": {
          "base_uri": "https://localhost:8080/"
        },
        "id": "-AmxJxHrznVV",
        "outputId": "b5a0f465-7a73-4bb5-ed49-a0bbdaaf8540"
      },
      "outputs": [
        {
          "output_type": "execute_result",
          "data": {
            "text/plain": [
              "Column1      0\n",
              "text       127\n",
              "label        0\n",
              "dtype: int64"
            ]
          },
          "metadata": {},
          "execution_count": 12
        }
      ],
      "source": [
        "#removing null values\n",
        "df.isnull().sum()"
      ]
    },
    {
      "cell_type": "code",
      "execution_count": null,
      "metadata": {
        "id": "Bc361-j536y2"
      },
      "outputs": [],
      "source": [
        "df = df.dropna()"
      ]
    },
    {
      "cell_type": "code",
      "execution_count": null,
      "metadata": {
        "colab": {
          "base_uri": "https://localhost:8080/",
          "height": 206
        },
        "id": "9qox1z5u4yZC",
        "outputId": "f41a7d33-e71a-46cc-c9f3-9ddb4928d572"
      },
      "outputs": [
        {
          "output_type": "execute_result",
          "data": {
            "text/plain": [
              "   Column1                                               text  label\n",
              "0        0  No comment is expected from Barack Obama Membe...      1\n",
              "1        1     Did they post their votes for Hillary already?      1\n",
              "2        2   Now, most of the demonstrators gathered last ...      1\n",
              "3        3  A dozen politically active pastors came here f...      0\n",
              "4        4  The RS-28 Sarmat missile, dubbed Satan 2, will...      1"
            ],
            "text/html": [
              "\n",
              "  <div id=\"df-cb7bc3e4-324e-4315-ba36-ef06fd6707ae\">\n",
              "    <div class=\"colab-df-container\">\n",
              "      <div>\n",
              "<style scoped>\n",
              "    .dataframe tbody tr th:only-of-type {\n",
              "        vertical-align: middle;\n",
              "    }\n",
              "\n",
              "    .dataframe tbody tr th {\n",
              "        vertical-align: top;\n",
              "    }\n",
              "\n",
              "    .dataframe thead th {\n",
              "        text-align: right;\n",
              "    }\n",
              "</style>\n",
              "<table border=\"1\" class=\"dataframe\">\n",
              "  <thead>\n",
              "    <tr style=\"text-align: right;\">\n",
              "      <th></th>\n",
              "      <th>Column1</th>\n",
              "      <th>text</th>\n",
              "      <th>label</th>\n",
              "    </tr>\n",
              "  </thead>\n",
              "  <tbody>\n",
              "    <tr>\n",
              "      <th>0</th>\n",
              "      <td>0</td>\n",
              "      <td>No comment is expected from Barack Obama Membe...</td>\n",
              "      <td>1</td>\n",
              "    </tr>\n",
              "    <tr>\n",
              "      <th>1</th>\n",
              "      <td>1</td>\n",
              "      <td>Did they post their votes for Hillary already?</td>\n",
              "      <td>1</td>\n",
              "    </tr>\n",
              "    <tr>\n",
              "      <th>2</th>\n",
              "      <td>2</td>\n",
              "      <td>Now, most of the demonstrators gathered last ...</td>\n",
              "      <td>1</td>\n",
              "    </tr>\n",
              "    <tr>\n",
              "      <th>3</th>\n",
              "      <td>3</td>\n",
              "      <td>A dozen politically active pastors came here f...</td>\n",
              "      <td>0</td>\n",
              "    </tr>\n",
              "    <tr>\n",
              "      <th>4</th>\n",
              "      <td>4</td>\n",
              "      <td>The RS-28 Sarmat missile, dubbed Satan 2, will...</td>\n",
              "      <td>1</td>\n",
              "    </tr>\n",
              "  </tbody>\n",
              "</table>\n",
              "</div>\n",
              "      <button class=\"colab-df-convert\" onclick=\"convertToInteractive('df-cb7bc3e4-324e-4315-ba36-ef06fd6707ae')\"\n",
              "              title=\"Convert this dataframe to an interactive table.\"\n",
              "              style=\"display:none;\">\n",
              "        \n",
              "  <svg xmlns=\"http://www.w3.org/2000/svg\" height=\"24px\"viewBox=\"0 0 24 24\"\n",
              "       width=\"24px\">\n",
              "    <path d=\"M0 0h24v24H0V0z\" fill=\"none\"/>\n",
              "    <path d=\"M18.56 5.44l.94 2.06.94-2.06 2.06-.94-2.06-.94-.94-2.06-.94 2.06-2.06.94zm-11 1L8.5 8.5l.94-2.06 2.06-.94-2.06-.94L8.5 2.5l-.94 2.06-2.06.94zm10 10l.94 2.06.94-2.06 2.06-.94-2.06-.94-.94-2.06-.94 2.06-2.06.94z\"/><path d=\"M17.41 7.96l-1.37-1.37c-.4-.4-.92-.59-1.43-.59-.52 0-1.04.2-1.43.59L10.3 9.45l-7.72 7.72c-.78.78-.78 2.05 0 2.83L4 21.41c.39.39.9.59 1.41.59.51 0 1.02-.2 1.41-.59l7.78-7.78 2.81-2.81c.8-.78.8-2.07 0-2.86zM5.41 20L4 18.59l7.72-7.72 1.47 1.35L5.41 20z\"/>\n",
              "  </svg>\n",
              "      </button>\n",
              "      \n",
              "  <style>\n",
              "    .colab-df-container {\n",
              "      display:flex;\n",
              "      flex-wrap:wrap;\n",
              "      gap: 12px;\n",
              "    }\n",
              "\n",
              "    .colab-df-convert {\n",
              "      background-color: #E8F0FE;\n",
              "      border: none;\n",
              "      border-radius: 50%;\n",
              "      cursor: pointer;\n",
              "      display: none;\n",
              "      fill: #1967D2;\n",
              "      height: 32px;\n",
              "      padding: 0 0 0 0;\n",
              "      width: 32px;\n",
              "    }\n",
              "\n",
              "    .colab-df-convert:hover {\n",
              "      background-color: #E2EBFA;\n",
              "      box-shadow: 0px 1px 2px rgba(60, 64, 67, 0.3), 0px 1px 3px 1px rgba(60, 64, 67, 0.15);\n",
              "      fill: #174EA6;\n",
              "    }\n",
              "\n",
              "    [theme=dark] .colab-df-convert {\n",
              "      background-color: #3B4455;\n",
              "      fill: #D2E3FC;\n",
              "    }\n",
              "\n",
              "    [theme=dark] .colab-df-convert:hover {\n",
              "      background-color: #434B5C;\n",
              "      box-shadow: 0px 1px 3px 1px rgba(0, 0, 0, 0.15);\n",
              "      filter: drop-shadow(0px 1px 2px rgba(0, 0, 0, 0.3));\n",
              "      fill: #FFFFFF;\n",
              "    }\n",
              "  </style>\n",
              "\n",
              "      <script>\n",
              "        const buttonEl =\n",
              "          document.querySelector('#df-cb7bc3e4-324e-4315-ba36-ef06fd6707ae button.colab-df-convert');\n",
              "        buttonEl.style.display =\n",
              "          google.colab.kernel.accessAllowed ? 'block' : 'none';\n",
              "\n",
              "        async function convertToInteractive(key) {\n",
              "          const element = document.querySelector('#df-cb7bc3e4-324e-4315-ba36-ef06fd6707ae');\n",
              "          const dataTable =\n",
              "            await google.colab.kernel.invokeFunction('convertToInteractive',\n",
              "                                                     [key], {});\n",
              "          if (!dataTable) return;\n",
              "\n",
              "          const docLinkHtml = 'Like what you see? Visit the ' +\n",
              "            '<a target=\"_blank\" href=https://colab.research.google.com/notebooks/data_table.ipynb>data table notebook</a>'\n",
              "            + ' to learn more about interactive tables.';\n",
              "          element.innerHTML = '';\n",
              "          dataTable['output_type'] = 'display_data';\n",
              "          await google.colab.output.renderOutput(dataTable, element);\n",
              "          const docLink = document.createElement('div');\n",
              "          docLink.innerHTML = docLinkHtml;\n",
              "          element.appendChild(docLink);\n",
              "        }\n",
              "      </script>\n",
              "    </div>\n",
              "  </div>\n",
              "  "
            ]
          },
          "metadata": {},
          "execution_count": 14
        }
      ],
      "source": [
        "df.head()"
      ]
    },
    {
      "cell_type": "code",
      "execution_count": null,
      "metadata": {
        "colab": {
          "base_uri": "https://localhost:8080/"
        },
        "id": "sphU5jNaz0cy",
        "outputId": "2c199256-19e7-4569-f1fe-5af297567252"
      },
      "outputs": [
        {
          "output_type": "execute_result",
          "data": {
            "text/plain": [
              "0        False\n",
              "1        False\n",
              "2        False\n",
              "3        False\n",
              "4        False\n",
              "         ...  \n",
              "72129    False\n",
              "72130    False\n",
              "72131    False\n",
              "72132    False\n",
              "72133    False\n",
              "Name: text, Length: 72007, dtype: bool"
            ]
          },
          "metadata": {},
          "execution_count": 15
        }
      ],
      "source": [
        "df.text.isnull()"
      ]
    },
    {
      "cell_type": "code",
      "execution_count": null,
      "metadata": {
        "id": "ojj87skkz3gV"
      },
      "outputs": [],
      "source": [
        "#removing duplicates row\n",
        "df.drop_duplicates(inplace=True)\n",
        "df = df.reset_index(drop=True)"
      ]
    },
    {
      "cell_type": "code",
      "execution_count": null,
      "metadata": {
        "colab": {
          "base_uri": "https://localhost:8080/",
          "height": 423
        },
        "id": "Cu-4PbPsz9sq",
        "outputId": "78dedf17-8657-4beb-93cf-487c16b49139"
      },
      "outputs": [
        {
          "output_type": "execute_result",
          "data": {
            "text/plain": [
              "       Column1                                               text  label\n",
              "0            0  No comment is expected from Barack Obama Membe...      1\n",
              "1            1     Did they post their votes for Hillary already?      1\n",
              "2            2   Now, most of the demonstrators gathered last ...      1\n",
              "3            3  A dozen politically active pastors came here f...      0\n",
              "4            4  The RS-28 Sarmat missile, dubbed Satan 2, will...      1\n",
              "...        ...                                                ...    ...\n",
              "72002    72129  WASHINGTON (Reuters) - Hackers believed to be ...      0\n",
              "72003    72130  You know, because in fantasyland Republicans n...      1\n",
              "72004    72131  Migrants Refuse To Leave Train At Refugee Camp...      0\n",
              "72005    72132  MEXICO CITY (Reuters) - Donald Trump’s combati...      0\n",
              "72006    72133  Goldman Sachs Endorses Hillary Clinton For Pre...      1\n",
              "\n",
              "[72007 rows x 3 columns]"
            ],
            "text/html": [
              "\n",
              "  <div id=\"df-42f7f801-7f5a-47ca-a49c-5c1a24d11730\">\n",
              "    <div class=\"colab-df-container\">\n",
              "      <div>\n",
              "<style scoped>\n",
              "    .dataframe tbody tr th:only-of-type {\n",
              "        vertical-align: middle;\n",
              "    }\n",
              "\n",
              "    .dataframe tbody tr th {\n",
              "        vertical-align: top;\n",
              "    }\n",
              "\n",
              "    .dataframe thead th {\n",
              "        text-align: right;\n",
              "    }\n",
              "</style>\n",
              "<table border=\"1\" class=\"dataframe\">\n",
              "  <thead>\n",
              "    <tr style=\"text-align: right;\">\n",
              "      <th></th>\n",
              "      <th>Column1</th>\n",
              "      <th>text</th>\n",
              "      <th>label</th>\n",
              "    </tr>\n",
              "  </thead>\n",
              "  <tbody>\n",
              "    <tr>\n",
              "      <th>0</th>\n",
              "      <td>0</td>\n",
              "      <td>No comment is expected from Barack Obama Membe...</td>\n",
              "      <td>1</td>\n",
              "    </tr>\n",
              "    <tr>\n",
              "      <th>1</th>\n",
              "      <td>1</td>\n",
              "      <td>Did they post their votes for Hillary already?</td>\n",
              "      <td>1</td>\n",
              "    </tr>\n",
              "    <tr>\n",
              "      <th>2</th>\n",
              "      <td>2</td>\n",
              "      <td>Now, most of the demonstrators gathered last ...</td>\n",
              "      <td>1</td>\n",
              "    </tr>\n",
              "    <tr>\n",
              "      <th>3</th>\n",
              "      <td>3</td>\n",
              "      <td>A dozen politically active pastors came here f...</td>\n",
              "      <td>0</td>\n",
              "    </tr>\n",
              "    <tr>\n",
              "      <th>4</th>\n",
              "      <td>4</td>\n",
              "      <td>The RS-28 Sarmat missile, dubbed Satan 2, will...</td>\n",
              "      <td>1</td>\n",
              "    </tr>\n",
              "    <tr>\n",
              "      <th>...</th>\n",
              "      <td>...</td>\n",
              "      <td>...</td>\n",
              "      <td>...</td>\n",
              "    </tr>\n",
              "    <tr>\n",
              "      <th>72002</th>\n",
              "      <td>72129</td>\n",
              "      <td>WASHINGTON (Reuters) - Hackers believed to be ...</td>\n",
              "      <td>0</td>\n",
              "    </tr>\n",
              "    <tr>\n",
              "      <th>72003</th>\n",
              "      <td>72130</td>\n",
              "      <td>You know, because in fantasyland Republicans n...</td>\n",
              "      <td>1</td>\n",
              "    </tr>\n",
              "    <tr>\n",
              "      <th>72004</th>\n",
              "      <td>72131</td>\n",
              "      <td>Migrants Refuse To Leave Train At Refugee Camp...</td>\n",
              "      <td>0</td>\n",
              "    </tr>\n",
              "    <tr>\n",
              "      <th>72005</th>\n",
              "      <td>72132</td>\n",
              "      <td>MEXICO CITY (Reuters) - Donald Trump’s combati...</td>\n",
              "      <td>0</td>\n",
              "    </tr>\n",
              "    <tr>\n",
              "      <th>72006</th>\n",
              "      <td>72133</td>\n",
              "      <td>Goldman Sachs Endorses Hillary Clinton For Pre...</td>\n",
              "      <td>1</td>\n",
              "    </tr>\n",
              "  </tbody>\n",
              "</table>\n",
              "<p>72007 rows × 3 columns</p>\n",
              "</div>\n",
              "      <button class=\"colab-df-convert\" onclick=\"convertToInteractive('df-42f7f801-7f5a-47ca-a49c-5c1a24d11730')\"\n",
              "              title=\"Convert this dataframe to an interactive table.\"\n",
              "              style=\"display:none;\">\n",
              "        \n",
              "  <svg xmlns=\"http://www.w3.org/2000/svg\" height=\"24px\"viewBox=\"0 0 24 24\"\n",
              "       width=\"24px\">\n",
              "    <path d=\"M0 0h24v24H0V0z\" fill=\"none\"/>\n",
              "    <path d=\"M18.56 5.44l.94 2.06.94-2.06 2.06-.94-2.06-.94-.94-2.06-.94 2.06-2.06.94zm-11 1L8.5 8.5l.94-2.06 2.06-.94-2.06-.94L8.5 2.5l-.94 2.06-2.06.94zm10 10l.94 2.06.94-2.06 2.06-.94-2.06-.94-.94-2.06-.94 2.06-2.06.94z\"/><path d=\"M17.41 7.96l-1.37-1.37c-.4-.4-.92-.59-1.43-.59-.52 0-1.04.2-1.43.59L10.3 9.45l-7.72 7.72c-.78.78-.78 2.05 0 2.83L4 21.41c.39.39.9.59 1.41.59.51 0 1.02-.2 1.41-.59l7.78-7.78 2.81-2.81c.8-.78.8-2.07 0-2.86zM5.41 20L4 18.59l7.72-7.72 1.47 1.35L5.41 20z\"/>\n",
              "  </svg>\n",
              "      </button>\n",
              "      \n",
              "  <style>\n",
              "    .colab-df-container {\n",
              "      display:flex;\n",
              "      flex-wrap:wrap;\n",
              "      gap: 12px;\n",
              "    }\n",
              "\n",
              "    .colab-df-convert {\n",
              "      background-color: #E8F0FE;\n",
              "      border: none;\n",
              "      border-radius: 50%;\n",
              "      cursor: pointer;\n",
              "      display: none;\n",
              "      fill: #1967D2;\n",
              "      height: 32px;\n",
              "      padding: 0 0 0 0;\n",
              "      width: 32px;\n",
              "    }\n",
              "\n",
              "    .colab-df-convert:hover {\n",
              "      background-color: #E2EBFA;\n",
              "      box-shadow: 0px 1px 2px rgba(60, 64, 67, 0.3), 0px 1px 3px 1px rgba(60, 64, 67, 0.15);\n",
              "      fill: #174EA6;\n",
              "    }\n",
              "\n",
              "    [theme=dark] .colab-df-convert {\n",
              "      background-color: #3B4455;\n",
              "      fill: #D2E3FC;\n",
              "    }\n",
              "\n",
              "    [theme=dark] .colab-df-convert:hover {\n",
              "      background-color: #434B5C;\n",
              "      box-shadow: 0px 1px 3px 1px rgba(0, 0, 0, 0.15);\n",
              "      filter: drop-shadow(0px 1px 2px rgba(0, 0, 0, 0.3));\n",
              "      fill: #FFFFFF;\n",
              "    }\n",
              "  </style>\n",
              "\n",
              "      <script>\n",
              "        const buttonEl =\n",
              "          document.querySelector('#df-42f7f801-7f5a-47ca-a49c-5c1a24d11730 button.colab-df-convert');\n",
              "        buttonEl.style.display =\n",
              "          google.colab.kernel.accessAllowed ? 'block' : 'none';\n",
              "\n",
              "        async function convertToInteractive(key) {\n",
              "          const element = document.querySelector('#df-42f7f801-7f5a-47ca-a49c-5c1a24d11730');\n",
              "          const dataTable =\n",
              "            await google.colab.kernel.invokeFunction('convertToInteractive',\n",
              "                                                     [key], {});\n",
              "          if (!dataTable) return;\n",
              "\n",
              "          const docLinkHtml = 'Like what you see? Visit the ' +\n",
              "            '<a target=\"_blank\" href=https://colab.research.google.com/notebooks/data_table.ipynb>data table notebook</a>'\n",
              "            + ' to learn more about interactive tables.';\n",
              "          element.innerHTML = '';\n",
              "          dataTable['output_type'] = 'display_data';\n",
              "          await google.colab.output.renderOutput(dataTable, element);\n",
              "          const docLink = document.createElement('div');\n",
              "          docLink.innerHTML = docLinkHtml;\n",
              "          element.appendChild(docLink);\n",
              "        }\n",
              "      </script>\n",
              "    </div>\n",
              "  </div>\n",
              "  "
            ]
          },
          "metadata": {},
          "execution_count": 17
        }
      ],
      "source": [
        "df"
      ]
    },
    {
      "cell_type": "code",
      "execution_count": null,
      "metadata": {
        "colab": {
          "base_uri": "https://localhost:8080/"
        },
        "id": "rfmzb0N720e7",
        "outputId": "7ec9c946-8bfc-4ce4-aa96-0a8eb8b6e63c"
      },
      "outputs": [
        {
          "output_type": "execute_result",
          "data": {
            "text/plain": [
              "Column1    0\n",
              "text       0\n",
              "label      0\n",
              "dtype: int64"
            ]
          },
          "metadata": {},
          "execution_count": 18
        }
      ],
      "source": [
        "df.isnull().sum()"
      ]
    },
    {
      "cell_type": "code",
      "execution_count": null,
      "metadata": {
        "colab": {
          "base_uri": "https://localhost:8080/"
        },
        "id": "B9nu1fIEZquY",
        "outputId": "f84902e9-159a-4ca5-9af7-2170556ac56e"
      },
      "outputs": [
        {
          "output_type": "stream",
          "name": "stdout",
          "text": [
            "Number of real news 37021\n",
            "Number of fake news 34986\n"
          ]
        }
      ],
      "source": [
        "realNumber = (df[\"label\"]==1).sum()\n",
        "fakeNumber = (df[\"label\"]==0).sum()\n",
        "print(f'Number of real news {realNumber}\\nNumber of fake news {fakeNumber}')"
      ]
    },
    {
      "cell_type": "markdown",
      "metadata": {
        "id": "3S8dwB8F7kWa"
      },
      "source": [
        "Data Visualization:"
      ]
    },
    {
      "cell_type": "code",
      "execution_count": null,
      "metadata": {
        "colab": {
          "base_uri": "https://localhost:8080/",
          "height": 469
        },
        "id": "5C1N4jYej1sd",
        "outputId": "a1599af0-8291-494b-89d2-0fec8e8e9824"
      },
      "outputs": [
        {
          "output_type": "display_data",
          "data": {
            "text/plain": [
              "<Figure size 640x480 with 1 Axes>"
            ],
            "image/png": "[encoded data removed]"
          },
          "metadata": {}
        }
      ],
      "source": [
        "y = np.array([realNumber, fakeNumber])\n",
        "mylabels = [\"Real News\", \"Fake News\"]\n",
        "myexplode = [0.2, 0]\n",
        "plt.pie(y, labels = mylabels, explode = myexplode, autopct='%1.2f%%', shadow = True, colors=['gold', 'orchid', ])\n",
        "plt.title(label=\"Percentage of the Real and Fake news According to the Dataset\", fontdict={\"fontsize\":16},pad=30)\n",
        "plt.axis('equal')\n",
        "plt.show()"
      ]
    },
    {
      "cell_type": "code",
      "execution_count": null,
      "metadata": {
        "colab": {
          "base_uri": "https://localhost:8080/",
          "height": 472
        },
        "id": "Jr_4VLyOlSdH",
        "outputId": "15563be8-dd3f-44df-d9ef-58ffb8d9bad1"
      },
      "outputs": [
        {
          "output_type": "display_data",
          "data": {
            "text/plain": [
              "<Figure size 640x480 with 1 Axes>"
            ],
            "image/png": "[encoded data removed]"
          },
          "metadata": {}
        }
      ],
      "source": [
        "real_df = df.loc[df['label']==1] #real_df contains real news\n",
        "fake_df = df.loc[df['label']==0] #fake_df contains real news\n",
        "real_rpl = real_df['text'].str.replace(\" \", \"\")\n",
        "fake_rpl = fake_df['text'].str.replace(\" \", \"\")\n",
        "real_lengths = real_rpl.apply(len)\n",
        "fake_lengths = fake_rpl.apply(len)\n",
        "plt.hist(real_lengths, bins=100, alpha=0.5, label='Real news', color=\"tomato\")\n",
        "plt.hist(fake_lengths, bins=100, alpha=0.5, label='Fake news', color=\"#77BFE2\")\n",
        "plt.title('Text Lengths')\n",
        "plt.xlabel('Length')\n",
        "plt.ylabel('Count')\n",
        "plt.legend()\n",
        "plt.show()"
      ]
    },
    {
      "cell_type": "markdown",
      "metadata": {
        "id": "wBLBsQ2Q6o1z"
      },
      "source": [
        "Data Visualization: Most Frequently Used Words"
      ]
    },
    {
      "cell_type": "code",
      "execution_count": null,
      "metadata": {
        "id": "Yl3EFPculp-7"
      },
      "outputs": [],
      "source": [
        "import string\n",
        "import collections\n",
        "from wordcloud import WordCloud, STOPWORDS, ImageColorGenerator\n",
        "stopwords = set(STOPWORDS)\n",
        "stopwords.update([\"a\", \"told\", \"last\", \"an\", \"the\",\"states\", \"t\",\"first\", \"us\", \"new\", \"even\",\"and\", \"said\", \"s\", \"—\", \"but\", \"or\", \"one\",\"because\", \"trump’s\",\"as\", \"until\", \"while\", \"of\", \"at\", \"by\", \"for\", \"with\",\"white\", \"many\", \"former\", \"about\", \"against\", \"between\", \"into\", \"through\", \"during\", \"before\",\"said.\", \"mr.\", \"”\", \"people\", \"-\", \"two\", \"after\", \"above\", \"(reuters)\", \"below\", \"to\", \"from\", \"up\", \"down\", \"in\", \"out\", \"on\", \"off\", \"over\", \"under\", \"again\", \"further\", \"then\", \"once\", \"here\", \"there\", \"when\", \"where\", \"why\", \"how\", \"all\", \"any\", \"both\", \"each\", \"few\", \"more\", \"most\", \"other\", \"some\", \"such\", \"no\", \"nor\", \"not\", \"only\", \"own\", \"same\", \"so\", \"than\", \"too\", \"very\", \"can\", \"will\", \"just\"])"
      ]
    },
    {
      "cell_type": "code",
      "execution_count": null,
      "metadata": {
        "id": "Wc4BbINgl0Jd"
      },
      "outputs": [],
      "source": [
        "fake_df = df.loc[df['label']==0]\n",
        "text = ' '.join(text for text in fake_df['text'])\n",
        "fake_text = text.lower()\n",
        "ft = [word for word in fake_text.split() if word not in stopwords]\n",
        "countedWords = collections.Counter(ft)\n",
        "fakedata=[]\n",
        "fakewords = []\n",
        "FakewordAndCount = {}\n",
        "for letter, count in countedWords.most_common(9):\n",
        "    FakewordAndCount[letter] = count\n",
        "\n",
        "for i,j in FakewordAndCount.items():\n",
        "        fakedata.append([i,j])\n",
        "        fakewords.append(i)\n"
      ]
    },
    {
      "cell_type": "code",
      "execution_count": null,
      "metadata": {
        "id": "TN93k4s3_Dwc"
      },
      "outputs": [],
      "source": [
        "real_df = df.loc[df['label']==1]\n",
        "text = ' '.join(text for text in real_df['text'])\n",
        "rtext = text.lower()\n",
        "\n",
        "fdword = set(fakewords)\n",
        "realdata=[]\n",
        "rt = [word for word in rtext.split() if word in fdword]\n",
        "countedWords = collections.Counter(rt)\n",
        "\n",
        "RealwordAndCount = {}\n",
        "for letter, count in countedWords.most_common(9):\n",
        "    RealwordAndCount[letter] = count\n",
        "for i,j in RealwordAndCount.items():\n",
        "        realdata.append([i,j])"
      ]
    },
    {
      "cell_type": "code",
      "execution_count": null,
      "metadata": {
        "colab": {
          "base_uri": "https://localhost:8080/",
          "height": 331
        },
        "id": "LQeTNbBwl6wl",
        "outputId": "6cf9263f-1776-43df-f174-6665906c6073"
      },
      "outputs": [
        {
          "output_type": "execute_result",
          "data": {
            "text/plain": [
              "         Word  realCount\n",
              "0       trump      83600\n",
              "1     clinton      33642\n",
              "2   president      29870\n",
              "3       state      18779\n",
              "4        u.s.      15069\n",
              "5  government      14654\n",
              "6      united      14100\n",
              "7       house      11888\n",
              "8  republican      11623"
            ],
            "text/html": [
              "\n",
              "  <div id=\"df-87591618-6dea-490f-8d79-392a3c23f9a4\">\n",
              "    <div class=\"colab-df-container\">\n",
              "      <div>\n",
              "<style scoped>\n",
              "    .dataframe tbody tr th:only-of-type {\n",
              "        vertical-align: middle;\n",
              "    }\n",
              "\n",
              "    .dataframe tbody tr th {\n",
              "        vertical-align: top;\n",
              "    }\n",
              "\n",
              "    .dataframe thead th {\n",
              "        text-align: right;\n",
              "    }\n",
              "</style>\n",
              "<table border=\"1\" class=\"dataframe\">\n",
              "  <thead>\n",
              "    <tr style=\"text-align: right;\">\n",
              "      <th></th>\n",
              "      <th>Word</th>\n",
              "      <th>realCount</th>\n",
              "    </tr>\n",
              "  </thead>\n",
              "  <tbody>\n",
              "    <tr>\n",
              "      <th>0</th>\n",
              "      <td>trump</td>\n",
              "      <td>83600</td>\n",
              "    </tr>\n",
              "    <tr>\n",
              "      <th>1</th>\n",
              "      <td>clinton</td>\n",
              "      <td>33642</td>\n",
              "    </tr>\n",
              "    <tr>\n",
              "      <th>2</th>\n",
              "      <td>president</td>\n",
              "      <td>29870</td>\n",
              "    </tr>\n",
              "    <tr>\n",
              "      <th>3</th>\n",
              "      <td>state</td>\n",
              "      <td>18779</td>\n",
              "    </tr>\n",
              "    <tr>\n",
              "      <th>4</th>\n",
              "      <td>u.s.</td>\n",
              "      <td>15069</td>\n",
              "    </tr>\n",
              "    <tr>\n",
              "      <th>5</th>\n",
              "      <td>government</td>\n",
              "      <td>14654</td>\n",
              "    </tr>\n",
              "    <tr>\n",
              "      <th>6</th>\n",
              "      <td>united</td>\n",
              "      <td>14100</td>\n",
              "    </tr>\n",
              "    <tr>\n",
              "      <th>7</th>\n",
              "      <td>house</td>\n",
              "      <td>11888</td>\n",
              "    </tr>\n",
              "    <tr>\n",
              "      <th>8</th>\n",
              "      <td>republican</td>\n",
              "      <td>11623</td>\n",
              "    </tr>\n",
              "  </tbody>\n",
              "</table>\n",
              "</div>\n",
              "      <button class=\"colab-df-convert\" onclick=\"convertToInteractive('df-87591618-6dea-490f-8d79-392a3c23f9a4')\"\n",
              "              title=\"Convert this dataframe to an interactive table.\"\n",
              "              style=\"display:none;\">\n",
              "        \n",
              "  <svg xmlns=\"http://www.w3.org/2000/svg\" height=\"24px\"viewBox=\"0 0 24 24\"\n",
              "       width=\"24px\">\n",
              "    <path d=\"M0 0h24v24H0V0z\" fill=\"none\"/>\n",
              "    <path d=\"M18.56 5.44l.94 2.06.94-2.06 2.06-.94-2.06-.94-.94-2.06-.94 2.06-2.06.94zm-11 1L8.5 8.5l.94-2.06 2.06-.94-2.06-.94L8.5 2.5l-.94 2.06-2.06.94zm10 10l.94 2.06.94-2.06 2.06-.94-2.06-.94-.94-2.06-.94 2.06-2.06.94z\"/><path d=\"M17.41 7.96l-1.37-1.37c-.4-.4-.92-.59-1.43-.59-.52 0-1.04.2-1.43.59L10.3 9.45l-7.72 7.72c-.78.78-.78 2.05 0 2.83L4 21.41c.39.39.9.59 1.41.59.51 0 1.02-.2 1.41-.59l7.78-7.78 2.81-2.81c.8-.78.8-2.07 0-2.86zM5.41 20L4 18.59l7.72-7.72 1.47 1.35L5.41 20z\"/>\n",
              "  </svg>\n",
              "      </button>\n",
              "      \n",
              "  <style>\n",
              "    .colab-df-container {\n",
              "      display:flex;\n",
              "      flex-wrap:wrap;\n",
              "      gap: 12px;\n",
              "    }\n",
              "\n",
              "    .colab-df-convert {\n",
              "      background-color: #E8F0FE;\n",
              "      border: none;\n",
              "      border-radius: 50%;\n",
              "      cursor: pointer;\n",
              "      display: none;\n",
              "      fill: #1967D2;\n",
              "      height: 32px;\n",
              "      padding: 0 0 0 0;\n",
              "      width: 32px;\n",
              "    }\n",
              "\n",
              "    .colab-df-convert:hover {\n",
              "      background-color: #E2EBFA;\n",
              "      box-shadow: 0px 1px 2px rgba(60, 64, 67, 0.3), 0px 1px 3px 1px rgba(60, 64, 67, 0.15);\n",
              "      fill: #174EA6;\n",
              "    }\n",
              "\n",
              "    [theme=dark] .colab-df-convert {\n",
              "      background-color: #3B4455;\n",
              "      fill: #D2E3FC;\n",
              "    }\n",
              "\n",
              "    [theme=dark] .colab-df-convert:hover {\n",
              "      background-color: #434B5C;\n",
              "      box-shadow: 0px 1px 3px 1px rgba(0, 0, 0, 0.15);\n",
              "      filter: drop-shadow(0px 1px 2px rgba(0, 0, 0, 0.3));\n",
              "      fill: #FFFFFF;\n",
              "    }\n",
              "  </style>\n",
              "\n",
              "      <script>\n",
              "        const buttonEl =\n",
              "          document.querySelector('#df-87591618-6dea-490f-8d79-392a3c23f9a4 button.colab-df-convert');\n",
              "        buttonEl.style.display =\n",
              "          google.colab.kernel.accessAllowed ? 'block' : 'none';\n",
              "\n",
              "        async function convertToInteractive(key) {\n",
              "          const element = document.querySelector('#df-87591618-6dea-490f-8d79-392a3c23f9a4');\n",
              "          const dataTable =\n",
              "            await google.colab.kernel.invokeFunction('convertToInteractive',\n",
              "                                                     [key], {});\n",
              "          if (!dataTable) return;\n",
              "\n",
              "          const docLinkHtml = 'Like what you see? Visit the ' +\n",
              "            '<a target=\"_blank\" href=https://colab.research.google.com/notebooks/data_table.ipynb>data table notebook</a>'\n",
              "            + ' to learn more about interactive tables.';\n",
              "          element.innerHTML = '';\n",
              "          dataTable['output_type'] = 'display_data';\n",
              "          await google.colab.output.renderOutput(dataTable, element);\n",
              "          const docLink = document.createElement('div');\n",
              "          docLink.innerHTML = docLinkHtml;\n",
              "          element.appendChild(docLink);\n",
              "        }\n",
              "      </script>\n",
              "    </div>\n",
              "  </div>\n",
              "  "
            ]
          },
          "metadata": {},
          "execution_count": 25
        }
      ],
      "source": [
        "rdc = pd.DataFrame(realdata, columns=['Word', 'realCount'])\n",
        "rdc"
      ]
    },
    {
      "cell_type": "code",
      "execution_count": null,
      "metadata": {
        "colab": {
          "base_uri": "https://localhost:8080/",
          "height": 331
        },
        "id": "zdzVSUYol9YO",
        "outputId": "aa9fb056-de57-46a4-f572-de925e41419b"
      },
      "outputs": [
        {
          "output_type": "execute_result",
          "data": {
            "text/plain": [
              "         Word  fakeCount\n",
              "0       trump      69398\n",
              "1        u.s.      41213\n",
              "2   president      40797\n",
              "3       state      28052\n",
              "4      united      27225\n",
              "5  republican      23965\n",
              "6       house      23652\n",
              "7  government      23608\n",
              "8     clinton      17939"
            ],
            "text/html": [
              "\n",
              "  <div id=\"df-4930b9bf-3a6e-4c7b-89bb-18cbd71d8d1a\">\n",
              "    <div class=\"colab-df-container\">\n",
              "      <div>\n",
              "<style scoped>\n",
              "    .dataframe tbody tr th:only-of-type {\n",
              "        vertical-align: middle;\n",
              "    }\n",
              "\n",
              "    .dataframe tbody tr th {\n",
              "        vertical-align: top;\n",
              "    }\n",
              "\n",
              "    .dataframe thead th {\n",
              "        text-align: right;\n",
              "    }\n",
              "</style>\n",
              "<table border=\"1\" class=\"dataframe\">\n",
              "  <thead>\n",
              "    <tr style=\"text-align: right;\">\n",
              "      <th></th>\n",
              "      <th>Word</th>\n",
              "      <th>fakeCount</th>\n",
              "    </tr>\n",
              "  </thead>\n",
              "  <tbody>\n",
              "    <tr>\n",
              "      <th>0</th>\n",
              "      <td>trump</td>\n",
              "      <td>69398</td>\n",
              "    </tr>\n",
              "    <tr>\n",
              "      <th>1</th>\n",
              "      <td>u.s.</td>\n",
              "      <td>41213</td>\n",
              "    </tr>\n",
              "    <tr>\n",
              "      <th>2</th>\n",
              "      <td>president</td>\n",
              "      <td>40797</td>\n",
              "    </tr>\n",
              "    <tr>\n",
              "      <th>3</th>\n",
              "      <td>state</td>\n",
              "      <td>28052</td>\n",
              "    </tr>\n",
              "    <tr>\n",
              "      <th>4</th>\n",
              "      <td>united</td>\n",
              "      <td>27225</td>\n",
              "    </tr>\n",
              "    <tr>\n",
              "      <th>5</th>\n",
              "      <td>republican</td>\n",
              "      <td>23965</td>\n",
              "    </tr>\n",
              "    <tr>\n",
              "      <th>6</th>\n",
              "      <td>house</td>\n",
              "      <td>23652</td>\n",
              "    </tr>\n",
              "    <tr>\n",
              "      <th>7</th>\n",
              "      <td>government</td>\n",
              "      <td>23608</td>\n",
              "    </tr>\n",
              "    <tr>\n",
              "      <th>8</th>\n",
              "      <td>clinton</td>\n",
              "      <td>17939</td>\n",
              "    </tr>\n",
              "  </tbody>\n",
              "</table>\n",
              "</div>\n",
              "      <button class=\"colab-df-convert\" onclick=\"convertToInteractive('df-4930b9bf-3a6e-4c7b-89bb-18cbd71d8d1a')\"\n",
              "              title=\"Convert this dataframe to an interactive table.\"\n",
              "              style=\"display:none;\">\n",
              "        \n",
              "  <svg xmlns=\"http://www.w3.org/2000/svg\" height=\"24px\"viewBox=\"0 0 24 24\"\n",
              "       width=\"24px\">\n",
              "    <path d=\"M0 0h24v24H0V0z\" fill=\"none\"/>\n",
              "    <path d=\"M18.56 5.44l.94 2.06.94-2.06 2.06-.94-2.06-.94-.94-2.06-.94 2.06-2.06.94zm-11 1L8.5 8.5l.94-2.06 2.06-.94-2.06-.94L8.5 2.5l-.94 2.06-2.06.94zm10 10l.94 2.06.94-2.06 2.06-.94-2.06-.94-.94-2.06-.94 2.06-2.06.94z\"/><path d=\"M17.41 7.96l-1.37-1.37c-.4-.4-.92-.59-1.43-.59-.52 0-1.04.2-1.43.59L10.3 9.45l-7.72 7.72c-.78.78-.78 2.05 0 2.83L4 21.41c.39.39.9.59 1.41.59.51 0 1.02-.2 1.41-.59l7.78-7.78 2.81-2.81c.8-.78.8-2.07 0-2.86zM5.41 20L4 18.59l7.72-7.72 1.47 1.35L5.41 20z\"/>\n",
              "  </svg>\n",
              "      </button>\n",
              "      \n",
              "  <style>\n",
              "    .colab-df-container {\n",
              "      display:flex;\n",
              "      flex-wrap:wrap;\n",
              "      gap: 12px;\n",
              "    }\n",
              "\n",
              "    .colab-df-convert {\n",
              "      background-color: #E8F0FE;\n",
              "      border: none;\n",
              "      border-radius: 50%;\n",
              "      cursor: pointer;\n",
              "      display: none;\n",
              "      fill: #1967D2;\n",
              "      height: 32px;\n",
              "      padding: 0 0 0 0;\n",
              "      width: 32px;\n",
              "    }\n",
              "\n",
              "    .colab-df-convert:hover {\n",
              "      background-color: #E2EBFA;\n",
              "      box-shadow: 0px 1px 2px rgba(60, 64, 67, 0.3), 0px 1px 3px 1px rgba(60, 64, 67, 0.15);\n",
              "      fill: #174EA6;\n",
              "    }\n",
              "\n",
              "    [theme=dark] .colab-df-convert {\n",
              "      background-color: #3B4455;\n",
              "      fill: #D2E3FC;\n",
              "    }\n",
              "\n",
              "    [theme=dark] .colab-df-convert:hover {\n",
              "      background-color: #434B5C;\n",
              "      box-shadow: 0px 1px 3px 1px rgba(0, 0, 0, 0.15);\n",
              "      filter: drop-shadow(0px 1px 2px rgba(0, 0, 0, 0.3));\n",
              "      fill: #FFFFFF;\n",
              "    }\n",
              "  </style>\n",
              "\n",
              "      <script>\n",
              "        const buttonEl =\n",
              "          document.querySelector('#df-4930b9bf-3a6e-4c7b-89bb-18cbd71d8d1a button.colab-df-convert');\n",
              "        buttonEl.style.display =\n",
              "          google.colab.kernel.accessAllowed ? 'block' : 'none';\n",
              "\n",
              "        async function convertToInteractive(key) {\n",
              "          const element = document.querySelector('#df-4930b9bf-3a6e-4c7b-89bb-18cbd71d8d1a');\n",
              "          const dataTable =\n",
              "            await google.colab.kernel.invokeFunction('convertToInteractive',\n",
              "                                                     [key], {});\n",
              "          if (!dataTable) return;\n",
              "\n",
              "          const docLinkHtml = 'Like what you see? Visit the ' +\n",
              "            '<a target=\"_blank\" href=https://colab.research.google.com/notebooks/data_table.ipynb>data table notebook</a>'\n",
              "            + ' to learn more about interactive tables.';\n",
              "          element.innerHTML = '';\n",
              "          dataTable['output_type'] = 'display_data';\n",
              "          await google.colab.output.renderOutput(dataTable, element);\n",
              "          const docLink = document.createElement('div');\n",
              "          docLink.innerHTML = docLinkHtml;\n",
              "          element.appendChild(docLink);\n",
              "        }\n",
              "      </script>\n",
              "    </div>\n",
              "  </div>\n",
              "  "
            ]
          },
          "metadata": {},
          "execution_count": 26
        }
      ],
      "source": [
        "fdc = pd.DataFrame(fakedata, columns=['Word', 'fakeCount'])\n",
        "fdc"
      ]
    },
    {
      "cell_type": "code",
      "execution_count": null,
      "metadata": {
        "id": "J5yKUI35l_6V"
      },
      "outputs": [],
      "source": [
        "df3 = pd.concat([fdc, rdc])"
      ]
    },
    {
      "cell_type": "code",
      "execution_count": null,
      "metadata": {
        "colab": {
          "base_uri": "https://localhost:8080/",
          "height": 467
        },
        "id": "PBNXucYdmCRZ",
        "outputId": "4ce9afdf-2a00-41ca-9e91-fdd3a0e5c483"
      },
      "outputs": [
        {
          "output_type": "execute_result",
          "data": {
            "text/plain": [
              "<matplotlib.legend.Legend at 0x7fe886c9cf70>"
            ]
          },
          "metadata": {},
          "execution_count": 29
        },
        {
          "output_type": "display_data",
          "data": {
            "text/plain": [
              "<Figure size 640x480 with 1 Axes>"
            ],
            "image/png": "[encoded data removed]"
          },
          "metadata": {}
        }
      ],
      "source": [
        "plt.xlabel(\"Word Count\")\n",
        "plt.ylabel(\"Top Frequently Used Word Based on Fake News\")\n",
        "plt.scatter(df3[\"fakeCount\"],df3[\"Word\"],c=\"maroon\", s=15, alpha = 0.6)\n",
        "plt.scatter(df3[\"realCount\"],df3[\"Word\"],c=\"royalblue\", s=15, alpha = 0.6)\n",
        "plt.legend([\"Word Count in Fake news\", \"Word Count in Real News\"], facecolor='white', loc='right')"
      ]
    },
    {
      "cell_type": "markdown",
      "metadata": {
        "id": "q97BAFsO69oW"
      },
      "source": [
        "Data Visualization: Number of Punctuation Used in News Articles"
      ]
    },
    {
      "cell_type": "code",
      "execution_count": null,
      "metadata": {
        "id": "IIf0bvqD69Lv"
      },
      "outputs": [],
      "source": [
        "import re\n",
        "listR=[]\n",
        "def count_puncts_Real(x):\n",
        "  new_str, countR = re.subn(r'\\W', '', x)\n",
        "  listR.append(countR)\n",
        "punR = real_df['text'].apply(count_puncts_Real)\n",
        "\n",
        "listF = []\n",
        "def count_puncts_Fake(x):\n",
        "  new_str, countF = re.subn(r'\\W', '', x)\n",
        "  listF.append(countF)\n",
        "punF = fake_df['text'].apply(count_puncts_Fake)"
      ]
    },
    {
      "cell_type": "code",
      "execution_count": null,
      "metadata": {
        "id": "DWFlSIBT7Z8P"
      },
      "outputs": [],
      "source": [
        "rpc = pd.DataFrame(listR, columns=['realPCount'])\n",
        "rpc = rpc.reset_index()\n",
        "rpc.columns = ['SL. No.', 'realPCount']\n",
        "rpc\n",
        "\n",
        "fpc = pd.DataFrame(listF, columns=['fakePCount'])\n",
        "fpc = fpc.reset_index()\n",
        "fpc.columns = ['SL. No.', 'fakePCount']"
      ]
    },
    {
      "cell_type": "code",
      "execution_count": null,
      "metadata": {
        "colab": {
          "base_uri": "https://localhost:8080/"
        },
        "id": "-DGh_HIPuczZ",
        "outputId": "21f0539c-b383-4f30-fe9a-0450cf0f6ce3"
      },
      "outputs": [
        {
          "output_type": "execute_result",
          "data": {
            "text/plain": [
              "(       SL. No.  fakePCount\n",
              " 0            0        1559\n",
              " 1            1         450\n",
              " 2            2         498\n",
              " 3            3         605\n",
              " 4            4         300\n",
              " ...        ...         ...\n",
              " 34981    34981        1597\n",
              " 34982    34982        2649\n",
              " 34983    34983         879\n",
              " 34984    34984         572\n",
              " 34985    34985         666\n",
              " \n",
              " [34986 rows x 2 columns],\n",
              "        SL. No.  realPCount\n",
              " 0            0        1122\n",
              " 1            1           8\n",
              " 2            2          39\n",
              " 3            3         379\n",
              " 4            4         295\n",
              " ...        ...         ...\n",
              " 37016    37016           1\n",
              " 37017    37017         237\n",
              " 37018    37018         968\n",
              " 37019    37019         662\n",
              " 37020    37020         543\n",
              " \n",
              " [37021 rows x 2 columns])"
            ]
          },
          "metadata": {},
          "execution_count": 30
        }
      ],
      "source": [
        "fpc , rpc"
      ]
    },
    {
      "cell_type": "code",
      "execution_count": null,
      "metadata": {
        "id": "YuRqxpOH0ZiO"
      },
      "outputs": [],
      "source": [
        "rpcSample = rpc.sample(n = 2000)\n",
        "fpcSample = fpc.sample(n = 2000)"
      ]
    },
    {
      "cell_type": "code",
      "execution_count": null,
      "metadata": {
        "id": "dvjMsS3H15JB"
      },
      "outputs": [],
      "source": [
        "df4 = pd.concat([rpcSample, fpcSample])"
      ]
    },
    {
      "cell_type": "code",
      "execution_count": null,
      "metadata": {
        "colab": {
          "base_uri": "https://localhost:8080/",
          "height": 532
        },
        "id": "sSBeMQXs7d0E",
        "outputId": "322d45e4-3734-47c9-85f3-2c4ba73fa465"
      },
      "outputs": [
        {
          "output_type": "execute_result",
          "data": {
            "text/plain": [
              "<matplotlib.legend.Legend at 0x7f750f2bc370>"
            ]
          },
          "metadata": {},
          "execution_count": 84
        },
        {
          "output_type": "display_data",
          "data": {
            "text/plain": [
              "<Figure size 640x480 with 1 Axes>"
            ],
            "image/png": "[encoded data removed]"
          },
          "metadata": {}
        }
      ],
      "source": [
        "plt.xlabel(\"Dataset Serial No.\")\n",
        "plt.ylabel(\"Amount of Punctuation Used\")\n",
        "plt.scatter(df4[\"SL. No.\"],df4[\"fakePCount\"],c=\"indigo\", s=50, alpha=0.6)\n",
        "plt.scatter(df4[\"SL. No.\"],df4[\"realPCount\"],c=\"orange\", s=50 , alpha=0.6)\n",
        "plt.legend([\"Punctuation used in Fake news\", \"Punctuation used in Real news\"], facecolor='white',loc='upper center',bbox_to_anchor=(0.5, -.2), ncol=5)"
      ]
    },
    {
      "cell_type": "code",
      "execution_count": null,
      "metadata": {
        "colab": {
          "base_uri": "https://localhost:8080/"
        },
        "id": "tKLupzxIZqrg",
        "outputId": "c4a1fb78-927f-4b1e-83a8-30a7ee433275"
      },
      "outputs": [
        {
          "output_type": "stream",
          "name": "stdout",
          "text": [
            "       Column1                                               text\n",
            "0            0  No comment is expected from Barack Obama Membe...\n",
            "1            1     Did they post their votes for Hillary already?\n",
            "2            2   Now, most of the demonstrators gathered last ...\n",
            "3            3  A dozen politically active pastors came here f...\n",
            "4            4  The RS-28 Sarmat missile, dubbed Satan 2, will...\n",
            "...        ...                                                ...\n",
            "72002    72129  WASHINGTON (Reuters) - Hackers believed to be ...\n",
            "72003    72130  You know, because in fantasyland Republicans n...\n",
            "72004    72131  Migrants Refuse To Leave Train At Refugee Camp...\n",
            "72005    72132  MEXICO CITY (Reuters) - Donald Trump’s combati...\n",
            "72006    72133  Goldman Sachs Endorses Hillary Clinton For Pre...\n",
            "\n",
            "[72007 rows x 2 columns]\n",
            "0        1\n",
            "1        1\n",
            "2        1\n",
            "3        0\n",
            "4        1\n",
            "        ..\n",
            "72002    0\n",
            "72003    1\n",
            "72004    0\n",
            "72005    0\n",
            "72006    1\n",
            "Name: label, Length: 72007, dtype: int64\n"
          ]
        }
      ],
      "source": [
        "text_df = df.drop(columns='label', axis=1)\n",
        "label_df = df['label']\n",
        "print(text_df)\n",
        "print(label_df)"
      ]
    },
    {
      "cell_type": "markdown",
      "metadata": {
        "id": "yfTQ8mWACKZn"
      },
      "source": [
        "# Data preprocessing\n"
      ]
    },
    {
      "cell_type": "code",
      "execution_count": null,
      "metadata": {
        "colab": {
          "base_uri": "https://localhost:8080/"
        },
        "id": "dMdpba08Zqo3",
        "outputId": "f30d30dc-d9f9-42ce-ac17-a9e366d37266"
      },
      "outputs": [
        {
          "output_type": "stream",
          "name": "stderr",
          "text": [
            "[nltk_data] Downloading package stopwords to /root/nltk_data...\n",
            "[nltk_data]   Unzipping corpora/stopwords.zip.\n",
            "[nltk_data] Downloading package punkt to /root/nltk_data...\n",
            "[nltk_data]   Unzipping tokenizers/punkt.zip.\n",
            "[nltk_data] Downloading package wordnet to /root/nltk_data...\n"
          ]
        },
        {
          "output_type": "execute_result",
          "data": {
            "text/plain": [
              "True"
            ]
          },
          "metadata": {},
          "execution_count": 37
        }
      ],
      "source": [
        "import nltk\n",
        "import re\n",
        "nltk.download('stopwords')\n",
        "nltk.download('punkt')\n",
        "from nltk.tokenize import RegexpTokenizer\n",
        "from nltk.stem.porter import PorterStemmer\n",
        "from nltk.corpus import stopwords\n",
        "from sklearn.feature_extraction.text import TfidfVectorizer\n",
        "from nltk.stem import WordNetLemmatizer\n",
        "nltk.download('wordnet')"
      ]
    },
    {
      "cell_type": "code",
      "execution_count": null,
      "metadata": {
        "id": "jC2EKRbtZqmR"
      },
      "outputs": [],
      "source": [
        "# Pstemmer = PorterStemmer()\n",
        "lemmatizer = WordNetLemmatizer()\n",
        "Stopword = nltk.corpus.stopwords.words('english')"
      ]
    },
    {
      "cell_type": "code",
      "execution_count": null,
      "metadata": {
        "id": "hEd6m77a4OvC"
      },
      "outputs": [],
      "source": [
        "def eliminateUrl(alteredText):\n",
        "    return re.sub(r'http\\S+', ' ', alteredText)\n",
        "\n",
        "def eliminatePunctuation(alteredText):\n",
        "  return re.sub(r'[^\\w\\s\\d]', '', alteredText)\n",
        "\n",
        "def eliminateDigit(alteredText):\n",
        "  return re.sub('[^a-z]',' ', alteredText)\n",
        "\n",
        "def tokenize(alteredText):\n",
        "  tokenizer = RegexpTokenizer('[a-z]\\w+')\n",
        "  return tokenizer.tokenize(alteredText)\n",
        "\n",
        "def stem(alteredText):\n",
        "  alteredText = [lemmatizer.lemmatize(i) for i in alteredText if i not in Stopword]\n",
        "  alteredText = ' '.join(alteredText)\n",
        "  return alteredText\n",
        "\n",
        "def wordPreprocessing(Text):\n",
        "    alteredText = Text.lower()\n",
        "    alteredText = eliminateUrl(alteredText)\n",
        "    alteredText = eliminatePunctuation(alteredText)\n",
        "    alteredText = eliminateDigit(alteredText)\n",
        "    alteredText = tokenize(alteredText)\n",
        "    alteredText = stem(alteredText)\n",
        "    return alteredText"
      ]
    },
    {
      "cell_type": "code",
      "execution_count": null,
      "metadata": {
        "id": "HRxFJyPxZqhX"
      },
      "outputs": [],
      "source": [
        "df['text'] = df['text'].apply(wordPreprocessing)"
      ]
    },
    {
      "cell_type": "code",
      "execution_count": null,
      "metadata": {
        "colab": {
          "base_uri": "https://localhost:8080/"
        },
        "id": "VoSizO5NDpBX",
        "outputId": "a0617dd9-5d33-404c-ddee-75c0c073c658"
      },
      "outputs": [
        {
          "output_type": "stream",
          "name": "stdout",
          "text": [
            "Mounted at /content/drive\n"
          ]
        }
      ],
      "source": [
        "from google.colab import drive\n",
        "drive.mount('/content/drive')"
      ]
    },
    {
      "cell_type": "code",
      "execution_count": null,
      "metadata": {
        "colab": {
          "base_uri": "https://localhost:8080/"
        },
        "id": "322tOslVZqer",
        "outputId": "ddd418fb-cc6f-40fb-e421-167085e76d3f"
      },
      "outputs": [
        {
          "output_type": "stream",
          "name": "stdout",
          "text": [
            "0        comment expected barack obama member fyf fukyo...\n",
            "1                                post vote hillary already\n",
            "2        demonstrator gathered last night exercising co...\n",
            "3        dozen politically active pastor came private d...\n",
            "4        r sarmat missile dubbed satan replace s fly mi...\n",
            "                               ...                        \n",
            "72002    washington reuters hacker believed working rus...\n",
            "72003    know fantasyland republican never questioned c...\n",
            "72004    migrant refuse leave train refugee camp hungar...\n",
            "72005    mexico city reuters donald trump combative sty...\n",
            "72006    goldman sachs endorses hillary clinton preside...\n",
            "Name: text, Length: 72007, dtype: object\n"
          ]
        }
      ],
      "source": [
        "print(df['text'])"
      ]
    },
    {
      "cell_type": "code",
      "execution_count": null,
      "metadata": {
        "id": "DPfRqXERZqZY"
      },
      "outputs": [],
      "source": [
        "textList = df['text'].values\n",
        "labelList = df['label'].values"
      ]
    },
    {
      "cell_type": "code",
      "execution_count": null,
      "metadata": {
        "colab": {
          "base_uri": "https://localhost:8080/"
        },
        "id": "dx00jTG1ZqRH",
        "outputId": "c4518e17-cfea-48c2-b59a-14ab8f5f4203"
      },
      "outputs": [
        {
          "output_type": "stream",
          "name": "stdout",
          "text": [
            "['comment expected barack obama member fyf fukyoflag blacklivesmatter movement called lynching hanging white people cop encouraged others radio show tuesday night turn tide kill white people cop send message killing black people americaone fyoflag organizer called sunshine radio blog show hosted texas called sunshine fing opinion radio show snapshot fyf lolatwhitefear twitter page pm show urging supporter call fyf tonight continue dismantle illusion white snapshot twitter radio call invite fyf radio show aired pm eastern standard timeduring show caller clearly call lynching killing white peoplea minute clip radio show heard provided breitbart texas someone would like referred hannibal already received death threat result interrupting fyf conference callsan unidentified black man said mother fkers start fing like u bunch niers takin one u roll said cause already roll gang anyway six seven black mother fckers see white person lynch as let turn table conspired cop started losing people state emergency speculated one two thing would happen bigass war niers going start backin already getting killed fk got lose sunshine could heard saying yep true fking true said need turn table kid getting shot somebody need become sacrifice sidehe said everybody st whatever like say everybody different position war continued give fk anyway said might well utilized st turn table ners said way start lookin like havin many casualty causality side instead killing black people black life matter mother fkers got make matter find mother fker alone snap as fin hang damn tree take picture send mother fkers need one example people start watchin turn table st said said start trickledown effect said one white person hung flathanging start trickledown effect continued black people good starting trend said get upperhand another black man spoke saying needed kill cop killing u first black male said best method right breitbart texas previously reported sunshine upset racist white people infiltrated disrupted one conference call subsequently released phone number one infiltrator veteran immediately started receiving threatening callsone fyoflag movement supporter allegedly told veteran infiltrated publicly posted conference call going rape gut pregnant wife fing piece sht unborn creature hung tree breitbart texas previously encountered sunshine sandra bland protest waller county jail texas said white people killed told journalist photographer see nappyass hair head mean one militant negro said protest redneck motherfkers murdered sandra bland nappy hair like fyf black radical say holding imperial power actually responsible terrorist attack september th accountable day reported breitbart texas several website twitter handle movement palmetto star describes one head organizer said youtube video supporter burning symbol illusion superiority false white supremacy like american flag british flag police uniform ku klux klan hoodssierra mcgrone nocturnus libertus posted help young afrikan clean rag oppression posted two photo one appears photo black man wiping naked butt american flagfor entire story breitbart news'\n",
            " 'post vote hillary already'\n",
            " 'demonstrator gathered last night exercising constitutional protected right peaceful protest order raise issue create change loretta lynch aka eric holder skirt'\n",
            " ...\n",
            " 'migrant refuse leave train refugee camp hungary thousand migrant flooded train station hungarian capital thursday police lifted twoday blockade boarded train thought going germany ended instead refugee camp mile budapest associated press report excited migrant piled newly arrived train keleti station hungary capital despite announcement hungarian english service station western europe canceled statement main departure board said train austria germany would depart due safety reason notice many migrant couldnt understand either language receiving advice hungarian official scrambled aboard standingroomonly crush hoped best ap said scuffle broke police ordered passenger train bicske according bbc meanwhile hungary prime minister say country manage growing migrant crisis even european official said meet month brussels discus effort strengthen european response situation viktor orban said influx refugee country really german problem intended destination hungarian along european full fear say see european leader among prime minister able control situation would create image come ready accept everybody would moral failure case orban said meeting european parliament president martin schulz according washington post moral human thing make clear please dont come go turkey europe turkey safe country stay risky come meanwhile voice america report british french german official called urgent action plan hold talk sept brussels address crisis voa report three minister also called better processing migrant italy greece weve reported united nation belief migrant set europe north africa middle east mediterranean sea far year percent increase last year nprs middle east editor larry kaplow writes given day hundred people perhaps thousand drifting ship clinging boat little inflatable raft go way jumping fence morocco get spanish territory cramming truck turkey riding train across europe'\n",
            " 'mexico city reuters donald trump combative style buffeted mexico president month deeply unpopular enrique pena nieto may end thanking new u president prompting offended mexican rally behind leader billionaire business magnate carlos slim political opponent groundswell support pena nieto cut lonely figure month bruising encounter trump often referred initial epn pena nieto laboring worst approval rating mexican president decade due discontent corruption gang violence sluggish growth jump fuel price trump threat scrap nafta trade deal mexico build border wall caused anger left mexican feeling fearful future challenge pena nieto thursday saying skip planned summit two leader mexico wasnt willing pay wall final straw pena nieto replied couple hour later canceled meeting trump one president biggest ever hit twitter getting like personally broke news capture notorious drug lord joaquin el chapo guzman january last year bravo epn cheered former president vicente fox initially condemned pena nieto inviting trump mexico talk last august waged colorful expletiveridden campaign republican twitter pena nieto trump talked hour phone friday pledging work difference agreeing speak wall public meanwhile call unity grew mexico led slim normally mediashy yearold gave minute news conference support government friday surprising example national unity ive seen life said slim spent several year past decade world richest man back president mexico defend national interest senior opposition leader also urged common front time show unity commitment mexico alejandra barrales head centerleft party democratic revolution prd said twitter pena nietos credibility battered widespread public perception failed battle corruption indeed even encouraged since conflictofinterest row embroiled wife top minister late opposition critic fear government try use trump screen distract failing however two senior official told reuters hoped pena nieto would seize moment act quickly decisively improve image expression dismay trump behavior towards mexico almost become national pastime talk boycott u company gathering steam social medium slim asked boycotting news conference said wasnt good idea turn u company creating job mexico foreign company voiced support mexico feel mexico subjected terror moment said andreas schindler coowner german fruit wholesaler limons parent pilz schindler phone hamburg right behind mexico'\n",
            " 'goldman sachs endorses hillary clinton president goldman sachs really choice cycle october sociable share lloyd blankfein ceo goldman sachs greeted hillary clinton panel discussion clinton global initiative sept new york published partnership shadowproof he sunday former secretary state hillary clinton earned endorsement goldman sachs ceo lloyd blankfein endorsement working toward year revealed wikileaks hillary clinton spent run presidential campaign giving speech goldman sachs wall street bank praised talent explained position financial regulation october clinton told goldman sachs doddfrank done mostly political reason congress needed look like something crisis said there nothing magic regulation much bad little bad get golden key figure work people know industry better anybody people work industry yes essentially endorsed wall street writing rule wall street know business best complained goldman sachs regulation frightened banker mean right many place country bank need theyre scared regulation theyre scared shoe dropping theyre plain scared credit flowing way need restart economic growth clinton said people know little theyre still uncertain theyre uncertain dont know might come next term regulation theyre also uncertain change global economy beginning take hold music wall street ear goldman sachs really choice cycle pay hillary clinton three speech generously supported political career despite private comment goldman sachs hillary clinton taken tough public position wall street campaign likely due senator bernie sander success primary course wikileaks also revealed clinton told national multihousing council private speech need public private position real question blankfein goldman want return clinton private position giving sociable share']\n",
            "[1 1 1 ... 0 0 1]\n"
          ]
        }
      ],
      "source": [
        "print(textList)\n",
        "print(labelList)"
      ]
    },
    {
      "cell_type": "code",
      "execution_count": null,
      "metadata": {
        "id": "0vi6nQZ50Xr4"
      },
      "outputs": [],
      "source": [
        "vectorizer = TfidfVectorizer()"
      ]
    },
    {
      "cell_type": "code",
      "execution_count": null,
      "metadata": {
        "id": "gFyCxGPq0Zqw"
      },
      "outputs": [],
      "source": [
        "vectorizer.fit(textList)\n",
        "textList = vectorizer.transform(textList)"
      ]
    },
    {
      "cell_type": "code",
      "execution_count": null,
      "metadata": {
        "colab": {
          "base_uri": "https://localhost:8080/"
        },
        "id": "HPqcG8Ww0cJd",
        "outputId": "decaf825-3e28-4372-9ebf-be617595fb92"
      },
      "outputs": [
        {
          "output_type": "stream",
          "name": "stdout",
          "text": [
            "  (0, 304124)\t0.028964003566537024\n",
            "  (0, 303928)\t0.021243190278511858\n",
            "  (0, 303102)\t0.04574825089167845\n",
            "  (0, 300166)\t0.01961357311428925\n",
            "  (0, 297947)\t0.04506178897865622\n",
            "  (0, 297027)\t0.02306463830032044\n",
            "  (0, 296346)\t0.13079603967456224\n",
            "  (0, 295951)\t0.025201589474950846\n",
            "  (0, 294884)\t0.014368537051596806\n",
            "  (0, 294098)\t0.022864477512881936\n",
            "  (0, 293467)\t0.013560662948916535\n",
            "  (0, 293083)\t0.05726675025223968\n",
            "  (0, 292214)\t0.03479330908838996\n",
            "  (0, 291853)\t0.056030643503593054\n",
            "  (0, 288520)\t0.01801804328854459\n",
            "  (0, 288027)\t0.051422778431706756\n",
            "  (0, 285708)\t0.0429502522625672\n",
            "  (0, 284758)\t0.03038785215689655\n",
            "  (0, 284538)\t0.029547991143138785\n",
            "  (0, 284480)\t0.06428345152591175\n",
            "  (0, 282758)\t0.03420188851450176\n",
            "  (0, 282736)\t0.036663420095843766\n",
            "  (0, 281491)\t0.04152344558886552\n",
            "  (0, 279820)\t0.02507263559088798\n",
            "  (0, 279470)\t0.05319791845455051\n",
            "  :\t:\n",
            "  (72006, 59075)\t0.03675214500540568\n",
            "  (72006, 58053)\t0.027353840341600745\n",
            "  (72006, 57698)\t0.018244872827898995\n",
            "  (72006, 57352)\t0.0331462951609739\n",
            "  (72006, 53981)\t0.026390008332254328\n",
            "  (72006, 52629)\t0.043520759344839025\n",
            "  (72006, 51748)\t0.024375840432624776\n",
            "  (72006, 51372)\t0.020492923946064567\n",
            "  (72006, 48794)\t0.24273623402406153\n",
            "  (72006, 46111)\t0.06496656320644027\n",
            "  (72006, 43829)\t0.02407786066330404\n",
            "  (72006, 43097)\t0.08293020812784534\n",
            "  (72006, 40561)\t0.035949937808822344\n",
            "  (72006, 38997)\t0.04103033139033252\n",
            "  (72006, 37243)\t0.025829661385037866\n",
            "  (72006, 30323)\t0.19927443276754242\n",
            "  (72006, 27960)\t0.026737778182467805\n",
            "  (72006, 27707)\t0.027306406545225592\n",
            "  (72006, 27417)\t0.035967760424650136\n",
            "  (72006, 25520)\t0.03524685615977935\n",
            "  (72006, 22842)\t0.04719201804865706\n",
            "  (72006, 22821)\t0.06703431932785354\n",
            "  (72006, 21637)\t0.060934200206698055\n",
            "  (72006, 14009)\t0.04265635276030406\n",
            "  (72006, 9478)\t0.03016233481227757\n"
          ]
        }
      ],
      "source": [
        "print(textList)"
      ]
    },
    {
      "cell_type": "markdown",
      "metadata": {
        "id": "rwh2pnQR7_He"
      },
      "source": [
        "# Training Models"
      ]
    },
    {
      "cell_type": "code",
      "execution_count": null,
      "metadata": {
        "id": "WqC7AIfMxFna"
      },
      "outputs": [],
      "source": [
        "from sklearn.linear_model import LogisticRegression\n",
        "from sklearn.model_selection import train_test_split\n",
        "from sklearn.metrics import accuracy_score\n",
        "from sklearn import metrics\n",
        "from sklearn.metrics import r2_score\n",
        "from sklearn.metrics import precision_recall_fscore_support\n",
        "from sklearn.model_selection import cross_val_score\n",
        "from sklearn.metrics import confusion_matrix , classification_report\n",
        "from sklearn.metrics import accuracy_score, recall_score, precision_score, f1_score"
      ]
    },
    {
      "cell_type": "code",
      "execution_count": null,
      "metadata": {
        "id": "XASyJZUYwkdg"
      },
      "outputs": [],
      "source": [
        "X_train, X_test, y_train, y_test = train_test_split(textList ,labelList, test_size=0.2, random_state=100)"
      ]
    },
    {
      "cell_type": "markdown",
      "metadata": {
        "id": "wwVjfNDS8Tx0"
      },
      "source": [
        "# Logistic Regression"
      ]
    },
    {
      "cell_type": "code",
      "execution_count": null,
      "metadata": {
        "colab": {
          "base_uri": "https://localhost:8080/",
          "height": 74
        },
        "id": "yXhwjZNwwkRv",
        "outputId": "c06ba864-655c-476b-9295-24bc62cb80ce"
      },
      "outputs": [
        {
          "output_type": "execute_result",
          "data": {
            "text/plain": [
              "LogisticRegression()"
            ],
            "text/html": [
              "<style>#sk-container-id-1 {color: black;background-color: white;}#sk-container-id-1 pre{padding: 0;}#sk-container-id-1 div.sk-toggleable {background-color: white;}#sk-container-id-1 label.sk-toggleable__label {cursor: pointer;display: block;width: 100%;margin-bottom: 0;padding: 0.3em;box-sizing: border-box;text-align: center;}#sk-container-id-1 label.sk-toggleable__label-arrow:before {content: \"▸\";float: left;margin-right: 0.25em;color: #696969;}#sk-container-id-1 label.sk-toggleable__label-arrow:hover:before {color: black;}#sk-container-id-1 div.sk-estimator:hover label.sk-toggleable__label-arrow:before {color: black;}#sk-container-id-1 div.sk-toggleable__content {max-height: 0;max-width: 0;overflow: hidden;text-align: left;background-color: #f0f8ff;}#sk-container-id-1 div.sk-toggleable__content pre {margin: 0.2em;color: black;border-radius: 0.25em;background-color: #f0f8ff;}#sk-container-id-1 input.sk-toggleable__control:checked~div.sk-toggleable__content {max-height: 200px;max-width: 100%;overflow: auto;}#sk-container-id-1 input.sk-toggleable__control:checked~label.sk-toggleable__label-arrow:before {content: \"▾\";}#sk-container-id-1 div.sk-estimator input.sk-toggleable__control:checked~label.sk-toggleable__label {background-color: #d4ebff;}#sk-container-id-1 div.sk-label input.sk-toggleable__control:checked~label.sk-toggleable__label {background-color: #d4ebff;}#sk-container-id-1 input.sk-hidden--visually {border: 0;clip: rect(1px 1px 1px 1px);clip: rect(1px, 1px, 1px, 1px);height: 1px;margin: -1px;overflow: hidden;padding: 0;position: absolute;width: 1px;}#sk-container-id-1 div.sk-estimator {font-family: monospace;background-color: #f0f8ff;border: 1px dotted black;border-radius: 0.25em;box-sizing: border-box;margin-bottom: 0.5em;}#sk-container-id-1 div.sk-estimator:hover {background-color: #d4ebff;}#sk-container-id-1 div.sk-parallel-item::after {content: \"\";width: 100%;border-bottom: 1px solid gray;flex-grow: 1;}#sk-container-id-1 div.sk-label:hover label.sk-toggleable__label {background-color: #d4ebff;}#sk-container-id-1 div.sk-serial::before {content: \"\";position: absolute;border-left: 1px solid gray;box-sizing: border-box;top: 0;bottom: 0;left: 50%;z-index: 0;}#sk-container-id-1 div.sk-serial {display: flex;flex-direction: column;align-items: center;background-color: white;padding-right: 0.2em;padding-left: 0.2em;position: relative;}#sk-container-id-1 div.sk-item {position: relative;z-index: 1;}#sk-container-id-1 div.sk-parallel {display: flex;align-items: stretch;justify-content: center;background-color: white;position: relative;}#sk-container-id-1 div.sk-item::before, #sk-container-id-1 div.sk-parallel-item::before {content: \"\";position: absolute;border-left: 1px solid gray;box-sizing: border-box;top: 0;bottom: 0;left: 50%;z-index: -1;}#sk-container-id-1 div.sk-parallel-item {display: flex;flex-direction: column;z-index: 1;position: relative;background-color: white;}#sk-container-id-1 div.sk-parallel-item:first-child::after {align-self: flex-end;width: 50%;}#sk-container-id-1 div.sk-parallel-item:last-child::after {align-self: flex-start;width: 50%;}#sk-container-id-1 div.sk-parallel-item:only-child::after {width: 0;}#sk-container-id-1 div.sk-dashed-wrapped {border: 1px dashed gray;margin: 0 0.4em 0.5em 0.4em;box-sizing: border-box;padding-bottom: 0.4em;background-color: white;}#sk-container-id-1 div.sk-label label {font-family: monospace;font-weight: bold;display: inline-block;line-height: 1.2em;}#sk-container-id-1 div.sk-label-container {text-align: center;}#sk-container-id-1 div.sk-container {/* jupyter's `normalize.less` sets `[hidden] { display: none; }` but bootstrap.min.css set `[hidden] { display: none !important; }` so we also need the `!important` here to be able to override the default hidden behavior on the sphinx rendered scikit-learn.org. See: https://github.com/scikit-learn/scikit-learn/issues/21755 */display: inline-block !important;position: relative;}#sk-container-id-1 div.sk-text-repr-fallback {display: none;}</style><div id=\"sk-container-id-1\" class=\"sk-top-container\"><div class=\"sk-text-repr-fallback\"><pre>LogisticRegression()</pre><b>In a Jupyter environment, please rerun this cell to show the HTML representation or trust the notebook. <br />On GitHub, the HTML representation is unable to render, please try loading this page with nbviewer.org.</b></div><div class=\"sk-container\" hidden><div class=\"sk-item\"><div class=\"sk-estimator sk-toggleable\"><input class=\"sk-toggleable__control sk-hidden--visually\" id=\"sk-estimator-id-1\" type=\"checkbox\" checked><label for=\"sk-estimator-id-1\" class=\"sk-toggleable__label sk-toggleable__label-arrow\">LogisticRegression</label><div class=\"sk-toggleable__content\"><pre>LogisticRegression()</pre></div></div></div></div></div>"
            ]
          },
          "metadata": {},
          "execution_count": 50
        }
      ],
      "source": [
        "LR = LogisticRegression()\n",
        "LR.fit(X_train, y_train)          ######################"
      ]
    },
    {
      "cell_type": "code",
      "execution_count": null,
      "metadata": {
        "colab": {
          "base_uri": "https://localhost:8080/"
        },
        "id": "ejPHb70vwkKQ",
        "outputId": "8d1693cd-fa81-49a6-d0ca-9b7beaddb4b8"
      },
      "outputs": [
        {
          "output_type": "stream",
          "name": "stdout",
          "text": [
            "Accuracy score of the training data :  0.9653328704105546\n"
          ]
        }
      ],
      "source": [
        "X_train_prediction_lr = LR.predict(X_train)\n",
        "training_data_accuracy_lr = accuracy_score(y_train, X_train_prediction_lr)\n",
        "print('Accuracy score of the training data : ', training_data_accuracy_lr)"
      ]
    },
    {
      "cell_type": "code",
      "execution_count": null,
      "metadata": {
        "colab": {
          "base_uri": "https://localhost:8080/"
        },
        "id": "ByDsZzRVxcsS",
        "outputId": "2daab0da-c8ba-4d45-959e-9f60a7718a97"
      },
      "outputs": [
        {
          "output_type": "stream",
          "name": "stdout",
          "text": [
            "Accuracy score of the test data :  0.9529232051104013\n"
          ]
        }
      ],
      "source": [
        "X_test_prediction_lr = LR.predict(X_test)\n",
        "test_data_accuracy_lr = accuracy_score(y_test, X_test_prediction_lr)\n",
        "print('Accuracy score of the test data : ', test_data_accuracy_lr)"
      ]
    },
    {
      "cell_type": "code",
      "execution_count": null,
      "metadata": {
        "colab": {
          "base_uri": "https://localhost:8080/"
        },
        "id": "YYPnrL8KKAHw",
        "outputId": "1cfb4167-28cc-4568-90a3-6d47a070a300"
      },
      "outputs": [
        {
          "output_type": "stream",
          "name": "stdout",
          "text": [
            "Accuracy in Logistic Regression Model:  95.292 %\n",
            "Precision: 94.498 %\n",
            "Recall: 96.42 %\n",
            "F1 Score: 95.45 %\n"
          ]
        }
      ],
      "source": [
        "print(\"Accuracy in Logistic Regression Model: \", round(metrics.accuracy_score(y_test, X_test_prediction_lr)*100,3),'%')\n",
        "print(\"Precision:\",round(precision_score(y_test, X_test_prediction_lr)*100,3),'%')\n",
        "print(\"Recall:\", round(recall_score(y_test, X_test_prediction_lr)*100,3),'%')\n",
        "print(\"F1 Score:\", round(f1_score(y_test, X_test_prediction_lr)*100,3),'%')"
      ]
    },
    {
      "cell_type": "markdown",
      "metadata": {
        "id": "-1PpieKc8jJG"
      },
      "source": [
        "# Naive Bayes"
      ]
    },
    {
      "cell_type": "code",
      "execution_count": null,
      "metadata": {
        "colab": {
          "base_uri": "https://localhost:8080/",
          "height": 74
        },
        "id": "e6aOvepDwkAh",
        "outputId": "1c4b6826-7445-4197-96ed-554cda13c29f"
      },
      "outputs": [
        {
          "output_type": "execute_result",
          "data": {
            "text/plain": [
              "MultinomialNB()"
            ],
            "text/html": [
              "<style>#sk-container-id-2 {color: black;background-color: white;}#sk-container-id-2 pre{padding: 0;}#sk-container-id-2 div.sk-toggleable {background-color: white;}#sk-container-id-2 label.sk-toggleable__label {cursor: pointer;display: block;width: 100%;margin-bottom: 0;padding: 0.3em;box-sizing: border-box;text-align: center;}#sk-container-id-2 label.sk-toggleable__label-arrow:before {content: \"▸\";float: left;margin-right: 0.25em;color: #696969;}#sk-container-id-2 label.sk-toggleable__label-arrow:hover:before {color: black;}#sk-container-id-2 div.sk-estimator:hover label.sk-toggleable__label-arrow:before {color: black;}#sk-container-id-2 div.sk-toggleable__content {max-height: 0;max-width: 0;overflow: hidden;text-align: left;background-color: #f0f8ff;}#sk-container-id-2 div.sk-toggleable__content pre {margin: 0.2em;color: black;border-radius: 0.25em;background-color: #f0f8ff;}#sk-container-id-2 input.sk-toggleable__control:checked~div.sk-toggleable__content {max-height: 200px;max-width: 100%;overflow: auto;}#sk-container-id-2 input.sk-toggleable__control:checked~label.sk-toggleable__label-arrow:before {content: \"▾\";}#sk-container-id-2 div.sk-estimator input.sk-toggleable__control:checked~label.sk-toggleable__label {background-color: #d4ebff;}#sk-container-id-2 div.sk-label input.sk-toggleable__control:checked~label.sk-toggleable__label {background-color: #d4ebff;}#sk-container-id-2 input.sk-hidden--visually {border: 0;clip: rect(1px 1px 1px 1px);clip: rect(1px, 1px, 1px, 1px);height: 1px;margin: -1px;overflow: hidden;padding: 0;position: absolute;width: 1px;}#sk-container-id-2 div.sk-estimator {font-family: monospace;background-color: #f0f8ff;border: 1px dotted black;border-radius: 0.25em;box-sizing: border-box;margin-bottom: 0.5em;}#sk-container-id-2 div.sk-estimator:hover {background-color: #d4ebff;}#sk-container-id-2 div.sk-parallel-item::after {content: \"\";width: 100%;border-bottom: 1px solid gray;flex-grow: 1;}#sk-container-id-2 div.sk-label:hover label.sk-toggleable__label {background-color: #d4ebff;}#sk-container-id-2 div.sk-serial::before {content: \"\";position: absolute;border-left: 1px solid gray;box-sizing: border-box;top: 0;bottom: 0;left: 50%;z-index: 0;}#sk-container-id-2 div.sk-serial {display: flex;flex-direction: column;align-items: center;background-color: white;padding-right: 0.2em;padding-left: 0.2em;position: relative;}#sk-container-id-2 div.sk-item {position: relative;z-index: 1;}#sk-container-id-2 div.sk-parallel {display: flex;align-items: stretch;justify-content: center;background-color: white;position: relative;}#sk-container-id-2 div.sk-item::before, #sk-container-id-2 div.sk-parallel-item::before {content: \"\";position: absolute;border-left: 1px solid gray;box-sizing: border-box;top: 0;bottom: 0;left: 50%;z-index: -1;}#sk-container-id-2 div.sk-parallel-item {display: flex;flex-direction: column;z-index: 1;position: relative;background-color: white;}#sk-container-id-2 div.sk-parallel-item:first-child::after {align-self: flex-end;width: 50%;}#sk-container-id-2 div.sk-parallel-item:last-child::after {align-self: flex-start;width: 50%;}#sk-container-id-2 div.sk-parallel-item:only-child::after {width: 0;}#sk-container-id-2 div.sk-dashed-wrapped {border: 1px dashed gray;margin: 0 0.4em 0.5em 0.4em;box-sizing: border-box;padding-bottom: 0.4em;background-color: white;}#sk-container-id-2 div.sk-label label {font-family: monospace;font-weight: bold;display: inline-block;line-height: 1.2em;}#sk-container-id-2 div.sk-label-container {text-align: center;}#sk-container-id-2 div.sk-container {/* jupyter's `normalize.less` sets `[hidden] { display: none; }` but bootstrap.min.css set `[hidden] { display: none !important; }` so we also need the `!important` here to be able to override the default hidden behavior on the sphinx rendered scikit-learn.org. See: https://github.com/scikit-learn/scikit-learn/issues/21755 */display: inline-block !important;position: relative;}#sk-container-id-2 div.sk-text-repr-fallback {display: none;}</style><div id=\"sk-container-id-2\" class=\"sk-top-container\"><div class=\"sk-text-repr-fallback\"><pre>MultinomialNB()</pre><b>In a Jupyter environment, please rerun this cell to show the HTML representation or trust the notebook. <br />On GitHub, the HTML representation is unable to render, please try loading this page with nbviewer.org.</b></div><div class=\"sk-container\" hidden><div class=\"sk-item\"><div class=\"sk-estimator sk-toggleable\"><input class=\"sk-toggleable__control sk-hidden--visually\" id=\"sk-estimator-id-2\" type=\"checkbox\" checked><label for=\"sk-estimator-id-2\" class=\"sk-toggleable__label sk-toggleable__label-arrow\">MultinomialNB</label><div class=\"sk-toggleable__content\"><pre>MultinomialNB()</pre></div></div></div></div></div>"
            ]
          },
          "metadata": {},
          "execution_count": 56
        }
      ],
      "source": [
        "from sklearn.naive_bayes import MultinomialNB\n",
        "nb_classifier = MultinomialNB()\n",
        "nb_classifier.fit(X_train, y_train)"
      ]
    },
    {
      "cell_type": "code",
      "execution_count": null,
      "metadata": {
        "colab": {
          "base_uri": "https://localhost:8080/"
        },
        "id": "10IbyeY2GNQ9",
        "outputId": "31187cdf-5e10-4753-a92a-66a06c7814b1"
      },
      "outputs": [
        {
          "output_type": "stream",
          "name": "stdout",
          "text": [
            "Accuracy score of the training data :  0.8912941584931864\n"
          ]
        }
      ],
      "source": [
        "X_train_prediction_nb = nb_classifier.predict(X_train)\n",
        "training_data_accuracy_nb = accuracy_score(y_train, X_train_prediction_nb)\n",
        "print('Accuracy score of the training data : ', training_data_accuracy_nb)"
      ]
    },
    {
      "cell_type": "code",
      "execution_count": null,
      "metadata": {
        "colab": {
          "base_uri": "https://localhost:8080/"
        },
        "id": "ixompypPIGJn",
        "outputId": "3aa5f272-a1c7-47eb-a0f6-946aa2884cba"
      },
      "outputs": [
        {
          "output_type": "stream",
          "name": "stdout",
          "text": [
            "Accuracy score of the test data :  0.8732120538814053\n"
          ]
        }
      ],
      "source": [
        "X_test_prediction_nb = nb_classifier.predict(X_test)\n",
        "test_data_accuracy_nb = accuracy_score(y_test, X_test_prediction_nb)\n",
        "print('Accuracy score of the test data : ', test_data_accuracy_nb)"
      ]
    },
    {
      "cell_type": "code",
      "execution_count": null,
      "metadata": {
        "colab": {
          "base_uri": "https://localhost:8080/"
        },
        "id": "h2C2k-1S8pAj",
        "outputId": "4d540f9f-6be5-4c10-c8f3-d89a7378729e"
      },
      "outputs": [
        {
          "output_type": "stream",
          "name": "stdout",
          "text": [
            "Accuracy in Naive Bayes Model:  87.321 %\n",
            "Precision: 90.427 %\n",
            "Recall: 84.149 %\n",
            "F1 Score: 87.175 %\n"
          ]
        }
      ],
      "source": [
        "print(\"Accuracy in Naive Bayes Model: \", round(metrics.accuracy_score(y_test, X_test_prediction_nb)*100,3),'%')\n",
        "print(\"Precision:\",round(precision_score(y_test, X_test_prediction_nb)*100,3),'%')\n",
        "print(\"Recall:\",round(recall_score(y_test, X_test_prediction_nb)*100,3),'%')\n",
        "print(\"F1 Score:\",round(f1_score(y_test, X_test_prediction_nb)*100,3),'%')"
      ]
    },
    {
      "cell_type": "markdown",
      "metadata": {
        "id": "2goPYtSh9eED"
      },
      "source": [
        "# Decision Tree Classifier"
      ]
    },
    {
      "cell_type": "code",
      "execution_count": null,
      "metadata": {
        "colab": {
          "base_uri": "https://localhost:8080/",
          "height": 74
        },
        "id": "r99fi0KJ1rMN",
        "outputId": "e1b9aec2-956f-4f42-e1b7-faf709cba819"
      },
      "outputs": [
        {
          "output_type": "execute_result",
          "data": {
            "text/plain": [
              "DecisionTreeClassifier()"
            ],
            "text/html": [
              "<style>#sk-container-id-3 {color: black;background-color: white;}#sk-container-id-3 pre{padding: 0;}#sk-container-id-3 div.sk-toggleable {background-color: white;}#sk-container-id-3 label.sk-toggleable__label {cursor: pointer;display: block;width: 100%;margin-bottom: 0;padding: 0.3em;box-sizing: border-box;text-align: center;}#sk-container-id-3 label.sk-toggleable__label-arrow:before {content: \"▸\";float: left;margin-right: 0.25em;color: #696969;}#sk-container-id-3 label.sk-toggleable__label-arrow:hover:before {color: black;}#sk-container-id-3 div.sk-estimator:hover label.sk-toggleable__label-arrow:before {color: black;}#sk-container-id-3 div.sk-toggleable__content {max-height: 0;max-width: 0;overflow: hidden;text-align: left;background-color: #f0f8ff;}#sk-container-id-3 div.sk-toggleable__content pre {margin: 0.2em;color: black;border-radius: 0.25em;background-color: #f0f8ff;}#sk-container-id-3 input.sk-toggleable__control:checked~div.sk-toggleable__content {max-height: 200px;max-width: 100%;overflow: auto;}#sk-container-id-3 input.sk-toggleable__control:checked~label.sk-toggleable__label-arrow:before {content: \"▾\";}#sk-container-id-3 div.sk-estimator input.sk-toggleable__control:checked~label.sk-toggleable__label {background-color: #d4ebff;}#sk-container-id-3 div.sk-label input.sk-toggleable__control:checked~label.sk-toggleable__label {background-color: #d4ebff;}#sk-container-id-3 input.sk-hidden--visually {border: 0;clip: rect(1px 1px 1px 1px);clip: rect(1px, 1px, 1px, 1px);height: 1px;margin: -1px;overflow: hidden;padding: 0;position: absolute;width: 1px;}#sk-container-id-3 div.sk-estimator {font-family: monospace;background-color: #f0f8ff;border: 1px dotted black;border-radius: 0.25em;box-sizing: border-box;margin-bottom: 0.5em;}#sk-container-id-3 div.sk-estimator:hover {background-color: #d4ebff;}#sk-container-id-3 div.sk-parallel-item::after {content: \"\";width: 100%;border-bottom: 1px solid gray;flex-grow: 1;}#sk-container-id-3 div.sk-label:hover label.sk-toggleable__label {background-color: #d4ebff;}#sk-container-id-3 div.sk-serial::before {content: \"\";position: absolute;border-left: 1px solid gray;box-sizing: border-box;top: 0;bottom: 0;left: 50%;z-index: 0;}#sk-container-id-3 div.sk-serial {display: flex;flex-direction: column;align-items: center;background-color: white;padding-right: 0.2em;padding-left: 0.2em;position: relative;}#sk-container-id-3 div.sk-item {position: relative;z-index: 1;}#sk-container-id-3 div.sk-parallel {display: flex;align-items: stretch;justify-content: center;background-color: white;position: relative;}#sk-container-id-3 div.sk-item::before, #sk-container-id-3 div.sk-parallel-item::before {content: \"\";position: absolute;border-left: 1px solid gray;box-sizing: border-box;top: 0;bottom: 0;left: 50%;z-index: -1;}#sk-container-id-3 div.sk-parallel-item {display: flex;flex-direction: column;z-index: 1;position: relative;background-color: white;}#sk-container-id-3 div.sk-parallel-item:first-child::after {align-self: flex-end;width: 50%;}#sk-container-id-3 div.sk-parallel-item:last-child::after {align-self: flex-start;width: 50%;}#sk-container-id-3 div.sk-parallel-item:only-child::after {width: 0;}#sk-container-id-3 div.sk-dashed-wrapped {border: 1px dashed gray;margin: 0 0.4em 0.5em 0.4em;box-sizing: border-box;padding-bottom: 0.4em;background-color: white;}#sk-container-id-3 div.sk-label label {font-family: monospace;font-weight: bold;display: inline-block;line-height: 1.2em;}#sk-container-id-3 div.sk-label-container {text-align: center;}#sk-container-id-3 div.sk-container {/* jupyter's `normalize.less` sets `[hidden] { display: none; }` but bootstrap.min.css set `[hidden] { display: none !important; }` so we also need the `!important` here to be able to override the default hidden behavior on the sphinx rendered scikit-learn.org. See: https://github.com/scikit-learn/scikit-learn/issues/21755 */display: inline-block !important;position: relative;}#sk-container-id-3 div.sk-text-repr-fallback {display: none;}</style><div id=\"sk-container-id-3\" class=\"sk-top-container\"><div class=\"sk-text-repr-fallback\"><pre>DecisionTreeClassifier()</pre><b>In a Jupyter environment, please rerun this cell to show the HTML representation or trust the notebook. <br />On GitHub, the HTML representation is unable to render, please try loading this page with nbviewer.org.</b></div><div class=\"sk-container\" hidden><div class=\"sk-item\"><div class=\"sk-estimator sk-toggleable\"><input class=\"sk-toggleable__control sk-hidden--visually\" id=\"sk-estimator-id-3\" type=\"checkbox\" checked><label for=\"sk-estimator-id-3\" class=\"sk-toggleable__label sk-toggleable__label-arrow\">DecisionTreeClassifier</label><div class=\"sk-toggleable__content\"><pre>DecisionTreeClassifier()</pre></div></div></div></div></div>"
            ]
          },
          "metadata": {},
          "execution_count": 60
        }
      ],
      "source": [
        "from sklearn.tree import DecisionTreeClassifier\n",
        "DTC = DecisionTreeClassifier()\n",
        "DTC.fit(X_train, y_train)"
      ]
    },
    {
      "cell_type": "code",
      "execution_count": null,
      "metadata": {
        "colab": {
          "base_uri": "https://localhost:8080/"
        },
        "id": "wEd_o2b79jqm",
        "outputId": "51b95df8-18be-47d2-d24b-b2a1121fd41c"
      },
      "outputs": [
        {
          "output_type": "stream",
          "name": "stdout",
          "text": [
            "Accuracy score of the training data :  0.999965280791598\n"
          ]
        }
      ],
      "source": [
        "X_train_prediction_DTC = DTC.predict(X_train)\n",
        "training_data_accuracy_DTC = accuracy_score(y_train, X_train_prediction_DTC)\n",
        "print('Accuracy score of the training data : ', training_data_accuracy_DTC)"
      ]
    },
    {
      "cell_type": "code",
      "execution_count": null,
      "metadata": {
        "colab": {
          "base_uri": "https://localhost:8080/"
        },
        "id": "kj65Wqtc9oT7",
        "outputId": "cb539007-ef6b-4721-95cc-d5b5b2cd6f2d"
      },
      "outputs": [
        {
          "output_type": "stream",
          "name": "stdout",
          "text": [
            "Accuracy score of the test data :  0.9267462852381614\n"
          ]
        }
      ],
      "source": [
        "X_test_prediction_DTC = DTC.predict(X_test)\n",
        "test_data_accuracy_DTC = accuracy_score(y_test, X_test_prediction_DTC)\n",
        "print('Accuracy score of the test data : ', test_data_accuracy_DTC)"
      ]
    },
    {
      "cell_type": "code",
      "execution_count": null,
      "metadata": {
        "colab": {
          "base_uri": "https://localhost:8080/"
        },
        "id": "r5m0RIxP9qYs",
        "outputId": "5b0147a3-4e82-4b42-ff4c-d2910949c2e8"
      },
      "outputs": [
        {
          "output_type": "stream",
          "name": "stdout",
          "text": [
            "Accuracy in Decision Tree Classifier:  92.675 %\n",
            "Precision: 91.579 %\n",
            "Recall: 94.373 %\n",
            "F1 Score: 92.955 %\n"
          ]
        }
      ],
      "source": [
        "print(\"Accuracy in Decision Tree Classifier: \", round(metrics.accuracy_score(y_test, X_test_prediction_DTC)*100,3),'%')\n",
        "print(\"Precision:\",round(precision_score(y_test, X_test_prediction_DTC)*100,3),'%')\n",
        "print(\"Recall:\", round(recall_score(y_test, X_test_prediction_DTC)*100,3),'%')\n",
        "print(\"F1 Score:\", round(f1_score(y_test, X_test_prediction_DTC)*100,3),'%')"
      ]
    },
    {
      "cell_type": "markdown",
      "metadata": {
        "id": "QHKeTqq3cjHd"
      },
      "source": [
        "# Decision Tree Regression"
      ]
    },
    {
      "cell_type": "code",
      "execution_count": null,
      "metadata": {
        "id": "MwtqMZixcfW4"
      },
      "outputs": [],
      "source": [
        "from sklearn.tree import DecisionTreeRegressor\n",
        "DTR = DecisionTreeRegressor(random_state=100)\n",
        "DTR = DTR.fit(X_train,y_train)"
      ]
    },
    {
      "cell_type": "code",
      "execution_count": null,
      "metadata": {
        "colab": {
          "base_uri": "https://localhost:8080/"
        },
        "id": "ukZ14RKEcwxP",
        "outputId": "7b8a2826-3ea7-4bbd-8e15-9890ee70dacc"
      },
      "outputs": [
        {
          "output_type": "stream",
          "name": "stdout",
          "text": [
            "Accuracy score of the training data :  0.999965280791598\n"
          ]
        }
      ],
      "source": [
        "X_train_prediction_DTR = DTR.predict(X_train).round()\n",
        "training_data_accuracy_DTR = accuracy_score(y_train, X_train_prediction_DTR)\n",
        "print('Accuracy score of the training data : ', training_data_accuracy_DTR)"
      ]
    },
    {
      "cell_type": "code",
      "execution_count": null,
      "metadata": {
        "colab": {
          "base_uri": "https://localhost:8080/"
        },
        "id": "H8yDSf2VdIBB",
        "outputId": "9f3d2711-8f14-4c3f-aca6-c24db368bb9f"
      },
      "outputs": [
        {
          "output_type": "stream",
          "name": "stdout",
          "text": [
            "Accuracy score of the test data :  0.9246632412164977\n"
          ]
        }
      ],
      "source": [
        "X_test_prediction_DTR = DTR.predict(X_test).round()\n",
        "test_data_accuracy_DTR = accuracy_score(y_test, X_test_prediction_DTR)\n",
        "print('Accuracy score of the test data : ', test_data_accuracy_DTR)"
      ]
    },
    {
      "cell_type": "code",
      "execution_count": null,
      "metadata": {
        "colab": {
          "base_uri": "https://localhost:8080/"
        },
        "id": "YaUM2h1sdJn2",
        "outputId": "3c88c8e9-210a-487c-8bc4-daeb3600d94a"
      },
      "outputs": [
        {
          "output_type": "stream",
          "name": "stdout",
          "text": [
            "Accuracy in Decision Tree Regression:  92.466 %\n",
            "Precision: 91.546 %\n",
            "Recall: 93.966 %\n",
            "F1 Score: 92.74 %\n"
          ]
        }
      ],
      "source": [
        "print(\"Accuracy in Decision Tree Regression: \", round(metrics.accuracy_score(y_test, X_test_prediction_DTR)*100,3),'%')\n",
        "print(\"Precision:\", round(precision_score(y_test, X_test_prediction_DTR)*100,3),'%')\n",
        "print(\"Recall:\",round(recall_score(y_test, X_test_prediction_DTR)*100,3),'%')\n",
        "print(\"F1 Score:\", round(f1_score(y_test, X_test_prediction_DTR)*100,3),'%')"
      ]
    },
    {
      "cell_type": "markdown",
      "source": [
        "# Random Forest Classifier"
      ],
      "metadata": {
        "id": "xuG2QJLiveTp"
      }
    },
    {
      "cell_type": "code",
      "source": [
        "from sklearn.ensemble import RandomForestClassifier\n",
        "rf = RandomForestClassifier(**{\"max_features\": 0.3, \"n_estimators\":100,\"min_samples_leaf\": 0.01,\"random_state\":50},oob_score= True)\n",
        "rf.fit(X_train, y_train)"
      ],
      "metadata": {
        "colab": {
          "base_uri": "https://localhost:8080/",
          "height": 91
        },
        "id": "0uDpefOouYiF",
        "outputId": "9e72c2c4-0831-4c1f-f78b-865493fd1e8c"
      },
      "execution_count": null,
      "outputs": [
        {
          "output_type": "execute_result",
          "data": {
            "text/plain": [
              "RandomForestClassifier(max_features=0.3, min_samples_leaf=0.01, oob_score=True,\n",
              "                       random_state=50)"
            ],
            "text/html": [
              "<style>#sk-container-id-4 {color: black;background-color: white;}#sk-container-id-4 pre{padding: 0;}#sk-container-id-4 div.sk-toggleable {background-color: white;}#sk-container-id-4 label.sk-toggleable__label {cursor: pointer;display: block;width: 100%;margin-bottom: 0;padding: 0.3em;box-sizing: border-box;text-align: center;}#sk-container-id-4 label.sk-toggleable__label-arrow:before {content: \"▸\";float: left;margin-right: 0.25em;color: #696969;}#sk-container-id-4 label.sk-toggleable__label-arrow:hover:before {color: black;}#sk-container-id-4 div.sk-estimator:hover label.sk-toggleable__label-arrow:before {color: black;}#sk-container-id-4 div.sk-toggleable__content {max-height: 0;max-width: 0;overflow: hidden;text-align: left;background-color: #f0f8ff;}#sk-container-id-4 div.sk-toggleable__content pre {margin: 0.2em;color: black;border-radius: 0.25em;background-color: #f0f8ff;}#sk-container-id-4 input.sk-toggleable__control:checked~div.sk-toggleable__content {max-height: 200px;max-width: 100%;overflow: auto;}#sk-container-id-4 input.sk-toggleable__control:checked~label.sk-toggleable__label-arrow:before {content: \"▾\";}#sk-container-id-4 div.sk-estimator input.sk-toggleable__control:checked~label.sk-toggleable__label {background-color: #d4ebff;}#sk-container-id-4 div.sk-label input.sk-toggleable__control:checked~label.sk-toggleable__label {background-color: #d4ebff;}#sk-container-id-4 input.sk-hidden--visually {border: 0;clip: rect(1px 1px 1px 1px);clip: rect(1px, 1px, 1px, 1px);height: 1px;margin: -1px;overflow: hidden;padding: 0;position: absolute;width: 1px;}#sk-container-id-4 div.sk-estimator {font-family: monospace;background-color: #f0f8ff;border: 1px dotted black;border-radius: 0.25em;box-sizing: border-box;margin-bottom: 0.5em;}#sk-container-id-4 div.sk-estimator:hover {background-color: #d4ebff;}#sk-container-id-4 div.sk-parallel-item::after {content: \"\";width: 100%;border-bottom: 1px solid gray;flex-grow: 1;}#sk-container-id-4 div.sk-label:hover label.sk-toggleable__label {background-color: #d4ebff;}#sk-container-id-4 div.sk-serial::before {content: \"\";position: absolute;border-left: 1px solid gray;box-sizing: border-box;top: 0;bottom: 0;left: 50%;z-index: 0;}#sk-container-id-4 div.sk-serial {display: flex;flex-direction: column;align-items: center;background-color: white;padding-right: 0.2em;padding-left: 0.2em;position: relative;}#sk-container-id-4 div.sk-item {position: relative;z-index: 1;}#sk-container-id-4 div.sk-parallel {display: flex;align-items: stretch;justify-content: center;background-color: white;position: relative;}#sk-container-id-4 div.sk-item::before, #sk-container-id-4 div.sk-parallel-item::before {content: \"\";position: absolute;border-left: 1px solid gray;box-sizing: border-box;top: 0;bottom: 0;left: 50%;z-index: -1;}#sk-container-id-4 div.sk-parallel-item {display: flex;flex-direction: column;z-index: 1;position: relative;background-color: white;}#sk-container-id-4 div.sk-parallel-item:first-child::after {align-self: flex-end;width: 50%;}#sk-container-id-4 div.sk-parallel-item:last-child::after {align-self: flex-start;width: 50%;}#sk-container-id-4 div.sk-parallel-item:only-child::after {width: 0;}#sk-container-id-4 div.sk-dashed-wrapped {border: 1px dashed gray;margin: 0 0.4em 0.5em 0.4em;box-sizing: border-box;padding-bottom: 0.4em;background-color: white;}#sk-container-id-4 div.sk-label label {font-family: monospace;font-weight: bold;display: inline-block;line-height: 1.2em;}#sk-container-id-4 div.sk-label-container {text-align: center;}#sk-container-id-4 div.sk-container {/* jupyter's `normalize.less` sets `[hidden] { display: none; }` but bootstrap.min.css set `[hidden] { display: none !important; }` so we also need the `!important` here to be able to override the default hidden behavior on the sphinx rendered scikit-learn.org. See: https://github.com/scikit-learn/scikit-learn/issues/21755 */display: inline-block !important;position: relative;}#sk-container-id-4 div.sk-text-repr-fallback {display: none;}</style><div id=\"sk-container-id-4\" class=\"sk-top-container\"><div class=\"sk-text-repr-fallback\"><pre>RandomForestClassifier(max_features=0.3, min_samples_leaf=0.01, oob_score=True,\n",
              "                       random_state=50)</pre><b>In a Jupyter environment, please rerun this cell to show the HTML representation or trust the notebook. <br />On GitHub, the HTML representation is unable to render, please try loading this page with nbviewer.org.</b></div><div class=\"sk-container\" hidden><div class=\"sk-item\"><div class=\"sk-estimator sk-toggleable\"><input class=\"sk-toggleable__control sk-hidden--visually\" id=\"sk-estimator-id-4\" type=\"checkbox\" checked><label for=\"sk-estimator-id-4\" class=\"sk-toggleable__label sk-toggleable__label-arrow\">RandomForestClassifier</label><div class=\"sk-toggleable__content\"><pre>RandomForestClassifier(max_features=0.3, min_samples_leaf=0.01, oob_score=True,\n",
              "                       random_state=50)</pre></div></div></div></div></div>"
            ]
          },
          "metadata": {},
          "execution_count": 68
        }
      ]
    },
    {
      "cell_type": "code",
      "source": [
        "X_train_prediction_rf = rf.predict(X_train)\n",
        "training_data_accuracy_DTR = accuracy_score(y_train, X_train_prediction_rf)\n",
        "print('Accuracy score of the training data : ', training_data_accuracy_DTR)"
      ],
      "metadata": {
        "colab": {
          "base_uri": "https://localhost:8080/"
        },
        "id": "hbf_tlR7uhR5",
        "outputId": "b87bdd0a-7b14-4983-e772-c313edae0d7c"
      },
      "execution_count": null,
      "outputs": [
        {
          "output_type": "stream",
          "name": "stdout",
          "text": [
            "Accuracy score of the training data :  0.9020571130978213\n"
          ]
        }
      ]
    },
    {
      "cell_type": "code",
      "source": [
        "X_test_prediction_rf = rf.predict(X_test)\n",
        "test_data_accuracy_rf = accuracy_score(y_test, X_test_prediction_rf)\n",
        "print('Accuracy score of the test data : ', test_data_accuracy_rf)"
      ],
      "metadata": {
        "colab": {
          "base_uri": "https://localhost:8080/"
        },
        "id": "u0gV3qsmvJlQ",
        "outputId": "ab632ba5-fd1b-4820-9c2a-0afd88ebda5b"
      },
      "execution_count": null,
      "outputs": [
        {
          "output_type": "stream",
          "name": "stdout",
          "text": [
            "Accuracy score of the test data :  0.9024441049854187\n"
          ]
        }
      ]
    },
    {
      "cell_type": "code",
      "source": [
        "print(\"Accuracy in Random Forest Classifier: \", round(metrics.accuracy_score(y_test, X_test_prediction_rf)*100,3),'%')\n",
        "print(\"Precision:\", round(precision_score(y_test, X_test_prediction_rf)*100,3),'%')\n",
        "print(\"Recall:\",round(recall_score(y_test, X_test_prediction_rf)*100,3),'%')\n",
        "print(\"F1 Score:\", round(f1_score(y_test, X_test_prediction_rf)*100,3),'%')"
      ],
      "metadata": {
        "colab": {
          "base_uri": "https://localhost:8080/"
        },
        "id": "rgmRvKy8ubQT",
        "outputId": "1a35b0a0-f62c-4165-fbec-74a52e8b650b"
      },
      "execution_count": null,
      "outputs": [
        {
          "output_type": "stream",
          "name": "stdout",
          "text": [
            "Accuracy in Random Forest Classifier:  90.244 %\n",
            "Precision: 87.728 %\n",
            "Recall: 94.115 %\n",
            "F1 Score: 90.809 %\n"
          ]
        }
      ]
    },
    {
      "cell_type": "markdown",
      "metadata": {
        "id": "6eBnNUizMAVo"
      },
      "source": [
        "# Plotting"
      ]
    },
    {
      "cell_type": "code",
      "source": [
        "lrp, lrpr, lrpf = round(precision_score(y_test, X_test_prediction_lr)*100,3), round(recall_score(y_test, X_test_prediction_lr)*100,3), round(f1_score(y_test, X_test_prediction_lr)*100,3)\n",
        "nbp, nbr, nbf = round(precision_score(y_test, X_test_prediction_nb)*100,3), round(recall_score(y_test, X_test_prediction_nb)*100,3), round(f1_score(y_test, X_test_prediction_nb)*100,3)\n",
        "dtcp, dtcr, dtcf = round(precision_score(y_test, X_test_prediction_DTC)*100,3), round(recall_score(y_test, X_test_prediction_DTC)*100,3),  round(f1_score(y_test, X_test_prediction_DTC)*100,3)\n",
        "dtrp, dtrr, dtrf = round(precision_score(y_test, X_test_prediction_DTR)*100,3), round(recall_score(y_test, X_test_prediction_DTR)*100,3), round(f1_score(y_test, X_test_prediction_DTR)*100,3)\n",
        "rfcp, rfcr, rfcf = round(precision_score(y_test, X_test_prediction_rf)*100,3), round(recall_score(y_test, X_test_prediction_rf)*100,3), round(f1_score(y_test, X_test_prediction_rf)*100,3)\n",
        "\n",
        "plotdata = pd.DataFrame({\n",
        "    \"Precision\":[lrp, nbp, dtrp, dtcp, rfcp],\n",
        "    \"Recall\":[lrpr, nbr, dtrp, dtcp, rfcr],\n",
        "    \"F1-Score\":[lrpf, nbf, dtrf, dtcf, rfcf]},\n",
        "    index=[\"Logistic Regression\", \"Naive Bayes\", \"Decision Tree Classifier\", \"Decision Tree Regression\", \"Random Forest Classifier\"])\n",
        "\n",
        "plotdata.plot(kind=\"bar\",figsize=(7, 6), color=['cyan', 'darkblue', 'mediumslateblue'])\n",
        "plt.title(\"Precision Recall and F1-Score\")\n",
        "plt.xlabel(\"Classification Algorithms\")\n",
        "plt.ylabel(\"Percentage\")\n",
        "plt.legend(bbox_to_anchor=(1.05, 1.0), loc='upper left')"
      ],
      "metadata": {
        "colab": {
          "base_uri": "https://localhost:8080/",
          "height": 741
        },
        "id": "odzWpB3UD5Pn",
        "outputId": "7a45958e-f609-4fe3-f4da-d1299e0980c9"
      },
      "execution_count": null,
      "outputs": [
        {
          "output_type": "execute_result",
          "data": {
            "text/plain": [
              "<matplotlib.legend.Legend at 0x7f74fa491df0>"
            ]
          },
          "metadata": {},
          "execution_count": 86
        },
        {
          "output_type": "display_data",
          "data": {
            "text/plain": [
              "<Figure size 700x600 with 1 Axes>"
            ],
            "image/png": "[encoded data removed]"
          },
          "metadata": {}
        }
      ]
    },
    {
      "cell_type": "code",
      "execution_count": null,
      "metadata": {
        "id": "G2M0gmVpfJbF",
        "colab": {
          "base_uri": "https://localhost:8080/",
          "height": 487
        },
        "outputId": "db6c4078-6908-4b62-cb11-b710c13a5431"
      },
      "outputs": [
        {
          "output_type": "display_data",
          "data": {
            "text/plain": [
              "<Figure size 1000x500 with 1 Axes>"
            ],
            "image/png": "[encoded data removed]"
          },
          "metadata": {}
        }
      ],
      "source": [
        "lra = round(metrics.accuracy_score(y_test, X_test_prediction_lr)*100,2)\n",
        "nba = round(metrics.accuracy_score(y_test, X_test_prediction_nb)*100,2)\n",
        "dtra = round(metrics.accuracy_score(y_test, X_test_prediction_DTR)*100,2)\n",
        "dtc = round(metrics.accuracy_score(y_test, X_test_prediction_DTC)*100,2)\n",
        "rfca = round(metrics.accuracy_score(y_test, X_test_prediction_rf)*100,2)\n",
        "data = {'Logistic Regression':lra, 'Naive Bayes':nba, 'Decision Tree Regression':dtra,'Decision Tree Classifier':dtc, 'Random Forest Classifier':rfca}\n",
        "models = list(data.keys())\n",
        "accuracy = list(data.values())\n",
        "fig = plt.figure(figsize = (10, 5))\n",
        "plt.bar(models, accuracy, color ='orange', width = 0.2)\n",
        "\n",
        "plt.xlabel(\"Model name\")\n",
        "plt.ylabel(\"Accuray Percentage\")\n",
        "plt.title(\"Accuracy of the Models\")\n",
        "plt.show()\n"
      ]
    },
    {
      "cell_type": "code",
      "execution_count": null,
      "metadata": {
        "id": "5fCI77u9fcAq",
        "colab": {
          "base_uri": "https://localhost:8080/"
        },
        "outputId": "ba8404c9-03eb-47d6-a119-f8be6c333fe4"
      },
      "outputs": [
        {
          "output_type": "stream",
          "name": "stdout",
          "text": [
            "Russia s Defense Ministry is investigating whether they have killed possibly the world s most wanted man, ISIS leader Abu Bakr al-Baghdadi, among 330 other fighters in an airstrike on May 28. Al-Baghdadi s death has yet to be verified and this also isn t the first time the claim of his demise has been made.The claim comes after the Ministry said that their airstrike targeted an IS military council meeting in the group s de-facto capital of Raqqa in northern Syria. The Russian state-funded Sputnik news agency first made the claim of the possibility of al-Baghdadi s death when they published a statement by Russia s defense ministry that said he may have been present when the airstrike took out 30 IS commanders and up to 300 soldiers at the Raqqa meeting. The leaders at the meeting were discussing their exit through the  Southern Corridor,  the location of the meeting being confirmed by drone footage according to the Ministry According to information that is checked through various channels, IS leader Ibrahim Abu-Bakr al-Baghdadi, who was killed as a result of the strike, was also present at the meeting,  the statement claims, however, al-Baghdadi s presence at the meeting is still being investigated.Al-Baghdadi has kept a low profile and his whereabouts have been unknown for quite some time, however, he was believed to have been in Mosul, Iraq, before a US-led coalition began an effort to reclaim the city in October 2016. Since then the general consensus is that he had been hiding out in the desert. His last major public appearance was back in 2014 when he gave a sermon at a mosque in Mosul after ISIS took control of the city. During the sermon, which was filmed and watched around the world, he declared himself  the leader of his envisages Islamic caliphate. If the Russians can confirm that they have killed al-Baghdadi, then that will make the whole investigation into Trump s Russian ties a little more interesting, as U.S. authorities had previously offered a $25 million reward for information that led to his capture.Featured image via screenshot\n",
            "\n",
            "\n",
            "Logistic Regression Prediction: Real News \n",
            "Naive Bayes Prediction: Fake News \n",
            "Decision Tree Regression Prediction: Real News \n",
            "Decision Tree Classifier Prediction: Real News \n",
            "Random Forest Classifier Prediction: Real News\n"
          ]
        }
      ],
      "source": [
        "def labeling(lb):\n",
        "\tif lb == 0:\n",
        "\t\treturn 'Fake News'\n",
        "\telif lb == 1:\n",
        "\t\treturn 'Real News'\n",
        "\n",
        "def predicting(testing):\n",
        "  textv = {'The news':[testing]}\n",
        "  dftest = pd.DataFrame(textv)\n",
        "  dftest['The news'] = dftest['The news'].apply(wordPreprocessing)\n",
        "  vect = vectorizer.transform(dftest['The news'])\n",
        "  pred_LR = LR.predict(vect)\n",
        "  pred_NB = nb_classifier.predict(vect)\n",
        "  pred_DTR = DTR.predict(vect)\n",
        "  pred_DTC = DTC.predict(vect)\n",
        "  pred_rfc = rf.predict(vect)\n",
        "\n",
        "  return print(\"\\n\\nLogistic Regression Prediction: {} \\nNaive Bayes Prediction: {} \\nDecision Tree Regression Prediction: {} \\nDecision Tree Classifier Prediction: {} \\nRandom Forest Classifier Prediction: {}\".format(labeling(pred_LR[0]), labeling(pred_NB[0]), labeling(pred_DTR[0]), labeling(pred_DTC[0]), labeling(pred_rfc[0])))\n",
        "\n",
        "\n",
        "testing = str(input())\n",
        "predicting(testing)\n"
      ]
    },
    {
      "cell_type": "code",
      "source": [],
      "metadata": {
        "id": "7DaR5Nr34ZM4"
      },
      "execution_count": null,
      "outputs": []
    }
  ],
  "metadata": {
    "colab": {
      "provenance": []
    },
    "kernelspec": {
      "display_name": "Python 3",
      "name": "python3"
    },
    "language_info": {
      "name": "python"
    }
  },
  "nbformat": 4,
  "nbformat_minor": 0
}